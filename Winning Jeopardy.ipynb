{
 "cells": [
  {
   "cell_type": "markdown",
   "metadata": {},
   "source": [
    "This project draws on statistics to determine patterns in past Jeopardy questions that may give future competitors an edge. \n",
    "\n",
    "I'll begin my importing, examing, and cleaning my data set. "
   ]
  },
  {
   "cell_type": "code",
   "execution_count": 2,
   "metadata": {
    "collapsed": false
   },
   "outputs": [],
   "source": [
    "import pandas as pd\n",
    "jeopardy = pd.read_csv('jeopardy.csv')"
   ]
  },
  {
   "cell_type": "code",
   "execution_count": 3,
   "metadata": {
    "collapsed": false
   },
   "outputs": [
    {
     "data": {
      "text/html": [
       "<div>\n",
       "<style scoped>\n",
       "    .dataframe tbody tr th:only-of-type {\n",
       "        vertical-align: middle;\n",
       "    }\n",
       "\n",
       "    .dataframe tbody tr th {\n",
       "        vertical-align: top;\n",
       "    }\n",
       "\n",
       "    .dataframe thead th {\n",
       "        text-align: right;\n",
       "    }\n",
       "</style>\n",
       "<table border=\"1\" class=\"dataframe\">\n",
       "  <thead>\n",
       "    <tr style=\"text-align: right;\">\n",
       "      <th></th>\n",
       "      <th>Show Number</th>\n",
       "      <th>Air Date</th>\n",
       "      <th>Round</th>\n",
       "      <th>Category</th>\n",
       "      <th>Value</th>\n",
       "      <th>Question</th>\n",
       "      <th>Answer</th>\n",
       "    </tr>\n",
       "  </thead>\n",
       "  <tbody>\n",
       "    <tr>\n",
       "      <th>0</th>\n",
       "      <td>4680</td>\n",
       "      <td>2004-12-31</td>\n",
       "      <td>Jeopardy!</td>\n",
       "      <td>HISTORY</td>\n",
       "      <td>$200</td>\n",
       "      <td>For the last 8 years of his life, Galileo was ...</td>\n",
       "      <td>Copernicus</td>\n",
       "    </tr>\n",
       "    <tr>\n",
       "      <th>1</th>\n",
       "      <td>4680</td>\n",
       "      <td>2004-12-31</td>\n",
       "      <td>Jeopardy!</td>\n",
       "      <td>ESPN's TOP 10 ALL-TIME ATHLETES</td>\n",
       "      <td>$200</td>\n",
       "      <td>No. 2: 1912 Olympian; football star at Carlisl...</td>\n",
       "      <td>Jim Thorpe</td>\n",
       "    </tr>\n",
       "    <tr>\n",
       "      <th>2</th>\n",
       "      <td>4680</td>\n",
       "      <td>2004-12-31</td>\n",
       "      <td>Jeopardy!</td>\n",
       "      <td>EVERYBODY TALKS ABOUT IT...</td>\n",
       "      <td>$200</td>\n",
       "      <td>The city of Yuma in this state has a record av...</td>\n",
       "      <td>Arizona</td>\n",
       "    </tr>\n",
       "    <tr>\n",
       "      <th>3</th>\n",
       "      <td>4680</td>\n",
       "      <td>2004-12-31</td>\n",
       "      <td>Jeopardy!</td>\n",
       "      <td>THE COMPANY LINE</td>\n",
       "      <td>$200</td>\n",
       "      <td>In 1963, live on \"The Art Linkletter Show\", th...</td>\n",
       "      <td>McDonald's</td>\n",
       "    </tr>\n",
       "    <tr>\n",
       "      <th>4</th>\n",
       "      <td>4680</td>\n",
       "      <td>2004-12-31</td>\n",
       "      <td>Jeopardy!</td>\n",
       "      <td>EPITAPHS &amp; TRIBUTES</td>\n",
       "      <td>$200</td>\n",
       "      <td>Signer of the Dec. of Indep., framer of the Co...</td>\n",
       "      <td>John Adams</td>\n",
       "    </tr>\n",
       "  </tbody>\n",
       "</table>\n",
       "</div>"
      ],
      "text/plain": [
       "   Show Number    Air Date      Round                         Category  Value  \\\n",
       "0         4680  2004-12-31  Jeopardy!                          HISTORY   $200   \n",
       "1         4680  2004-12-31  Jeopardy!  ESPN's TOP 10 ALL-TIME ATHLETES   $200   \n",
       "2         4680  2004-12-31  Jeopardy!      EVERYBODY TALKS ABOUT IT...   $200   \n",
       "3         4680  2004-12-31  Jeopardy!                 THE COMPANY LINE   $200   \n",
       "4         4680  2004-12-31  Jeopardy!              EPITAPHS & TRIBUTES   $200   \n",
       "\n",
       "                                            Question      Answer  \n",
       "0  For the last 8 years of his life, Galileo was ...  Copernicus  \n",
       "1  No. 2: 1912 Olympian; football star at Carlisl...  Jim Thorpe  \n",
       "2  The city of Yuma in this state has a record av...     Arizona  \n",
       "3  In 1963, live on \"The Art Linkletter Show\", th...  McDonald's  \n",
       "4  Signer of the Dec. of Indep., framer of the Co...  John Adams  "
      ]
     },
     "execution_count": 3,
     "metadata": {},
     "output_type": "execute_result"
    }
   ],
   "source": [
    "jeopardy.head()"
   ]
  },
  {
   "cell_type": "markdown",
   "metadata": {
    "collapsed": false
   },
   "source": [
    "print(jeopardy.columns)\n",
    "jeopardy.columns = jeopardy.columns.str.strip()\n"
   ]
  },
  {
   "cell_type": "code",
   "execution_count": 4,
   "metadata": {
    "collapsed": false
   },
   "outputs": [],
   "source": [
    "jeopardy.columns = jeopardy.columns.str.strip()"
   ]
  },
  {
   "cell_type": "code",
   "execution_count": 5,
   "metadata": {
    "collapsed": false
   },
   "outputs": [],
   "source": [
    "import re\n",
    "\n",
    "def normal_q(string):\n",
    "    string = string.lower()\n",
    "    string = re.sub(\"[^A-Za-z0-9\\s]\",\"\",string)\n",
    "    return string\n",
    "\n",
    "def normal_a(string):\n",
    "    string = string.lower()\n",
    "    string = re.sub(\"[^A-Za-z0-9\\s]\",\"\",string)\n",
    "    return string"
   ]
  },
  {
   "cell_type": "code",
   "execution_count": 6,
   "metadata": {
    "collapsed": false
   },
   "outputs": [],
   "source": [
    "jeopardy['clean_question'] = jeopardy['Question'].apply(normal_q)\n",
    "jeopardy['clean_answer'] = jeopardy['Answer'].apply(normal_a)"
   ]
  },
  {
   "cell_type": "code",
   "execution_count": 7,
   "metadata": {
    "collapsed": false
   },
   "outputs": [],
   "source": [
    "def normal_d(string):\n",
    "    string = string.replace('$',\"\")\n",
    "    try:\n",
    "        string = int(string)\n",
    "    except Exception:\n",
    "        string = 0\n",
    "    return string\n",
    "        "
   ]
  },
  {
   "cell_type": "code",
   "execution_count": 8,
   "metadata": {
    "collapsed": false
   },
   "outputs": [],
   "source": [
    "jeopardy['clean_value'] = jeopardy['Value'].apply(normal_d)\n",
    "jeopardy['Air Date'] = jeopardy['Air Date'].apply(pd.to_datetime)"
   ]
  },
  {
   "cell_type": "code",
   "execution_count": 9,
   "metadata": {
    "collapsed": false
   },
   "outputs": [
    {
     "data": {
      "text/plain": [
       "Show Number                int64\n",
       "Air Date          datetime64[ns]\n",
       "Round                     object\n",
       "Category                  object\n",
       "Value                     object\n",
       "Question                  object\n",
       "Answer                    object\n",
       "clean_question            object\n",
       "clean_answer              object\n",
       "clean_value                int64\n",
       "dtype: object"
      ]
     },
     "execution_count": 9,
     "metadata": {},
     "output_type": "execute_result"
    }
   ],
   "source": [
    "jeopardy.dtypes"
   ]
  },
  {
   "cell_type": "markdown",
   "metadata": {},
   "source": [
    "Now that the data is cleaned, I want to split the answer and question columns to better identify key words. Then I want to determine which words that appear in a question also appear in the answer, which will tell me how many answers are deducible from the question. \n",
    "\n",
    "I define the following function that will allow me to do this:"
   ]
  },
  {
   "cell_type": "code",
   "execution_count": 10,
   "metadata": {
    "collapsed": true
   },
   "outputs": [],
   "source": [
    "def split_s(row):\n",
    "    #The function takes in a row from my data set as input, and splits each word\n",
    "    #into its own series.\n",
    "    split_answer = row['clean_answer'].split(\" \")\n",
    "    split_question = row['clean_question'].split(\" \")\n",
    "    match_count = 0 #match_count is a list that will include every instance that\n",
    "    #a word that appears in the question also appears in the answer.\n",
    "    #I'll drop 'the' since it's a generic word.\n",
    "    if \"the\" in split_answer:\n",
    "        split_answer.remove(\"the\")\n",
    "    #The next conditional statement says that if nothing appears in my answer\n",
    "    # column, the output is 0.\n",
    "    if len(split_answer) == 0:\n",
    "        return 0\n",
    "    #The next step is iterating through the split_answer series, checking each row\n",
    "    #for instances in which the same word that appears in the question appears in\n",
    "    #the answer. Every time this is the case, the function adds 1 to my match_count\n",
    "    #list. \n",
    "    for word in split_answer:\n",
    "        if word in split_question:\n",
    "            match_count += 1\n",
    "    #The final output is the total of match_count divided by every word in my \n",
    "    #answer series. \n",
    "    return match_count / len(split_answer)"
   ]
  },
  {
   "cell_type": "markdown",
   "metadata": {},
   "source": [
    "I apply the split_s function across all rows in my dataset. The output is a series that shows, for each row, what percent of answers contain words from their corresponding questions."
   ]
  },
  {
   "cell_type": "code",
   "execution_count": 12,
   "metadata": {
    "collapsed": false
   },
   "outputs": [
    {
     "data": {
      "text/plain": [
       "0    0.0\n",
       "1    0.0\n",
       "2    0.0\n",
       "3    0.0\n",
       "4    0.0\n",
       "dtype: float64"
      ]
     },
     "execution_count": 12,
     "metadata": {},
     "output_type": "execute_result"
    }
   ],
   "source": [
    "answer_in_question = jeopardy.apply(split_s,axis=1)\n",
    "answer_in_question.head()"
   ]
  },
  {
   "cell_type": "markdown",
   "metadata": {},
   "source": [
    "Taking the mean of this series provides an overall probability that the answers are deducible from the questions."
   ]
  },
  {
   "cell_type": "code",
   "execution_count": 15,
   "metadata": {
    "collapsed": false
   },
   "outputs": [
    {
     "data": {
      "text/plain": [
       "0.06049325706933587"
      ]
     },
     "execution_count": 15,
     "metadata": {},
     "output_type": "execute_result"
    }
   ],
   "source": [
    "answer_in_question.mean()"
   ]
  },
  {
   "cell_type": "markdown",
   "metadata": {},
   "source": [
    "These results tell us that 6% of the questions contain the same word are the answer; and thus 6% of answers are deducible from the question. That in mind, it's best to not rely on the questions when considering your answer. "
   ]
  },
  {
   "cell_type": "markdown",
   "metadata": {},
   "source": [
    "Next, I want to see how often new questions are repeats of older ones. To do so, I loop through each row in my data and determine how often a key word in each question appears more than once. "
   ]
  },
  {
   "cell_type": "code",
   "execution_count": 13,
   "metadata": {
    "collapsed": false
   },
   "outputs": [],
   "source": [
    "questions_overlap = []\n",
    "terms_used = set()\n",
    "\n",
    "for i, row in jeopardy.iterrows():\n",
    "    #I start by splitting my question column into its component words and filtering\n",
    "    #out words that are less than 6 character - this allows the function to hone in\n",
    "    #on key terms.\n",
    "    split_question = row['clean_question'].split(\" \")\n",
    "    split_question = [word for word in split_question if len(word) > 5]\n",
    "    match_count = 0 #I instantiate a list that will count how many matching words appears.\n",
    "    #The next step is to loop through each word determine if that word appears in\n",
    "    #terms_used set. If it does, match_count increases by 1. If not, nothing happens.\n",
    "    for word in split_question:\n",
    "        if word in terms_used:\n",
    "            match_count += 1\n",
    "    #I'll loop again through the question words and add each word to my term_used set.\n",
    "    for word in split_question:\n",
    "        terms_used.add(word)\n",
    "    #If the split_question column contains a word, I'll alter match count to be\n",
    "    #the ratio of total instances that a word is used more than once to total \n",
    "    #words in the row.\n",
    "    if len(split_question) > 0:\n",
    "        match_count = match_count / len(split_question)\n",
    "    #The final step is to append each ratio to a new list.\n",
    "    questions_overlap.append(match_count)\n",
    "        "
   ]
  },
  {
   "cell_type": "markdown",
   "metadata": {},
   "source": [
    "Each value in the questions overlap list represents the ratio of instances in which a word repeats itself to the total instances that any word appears."
   ]
  },
  {
   "cell_type": "code",
   "execution_count": 20,
   "metadata": {
    "collapsed": false
   },
   "outputs": [
    {
     "data": {
      "text/plain": [
       "[0.0, 0.0, 0.0, 0.0, 0.0, 0.0, 0, 0.0, 0.125, 0.0, 0, 0.0]"
      ]
     },
     "execution_count": 20,
     "metadata": {},
     "output_type": "execute_result"
    }
   ],
   "source": [
    "questions_overlap[:12]"
   ]
  },
  {
   "cell_type": "code",
   "execution_count": null,
   "metadata": {
    "collapsed": true
   },
   "outputs": [],
   "source": [
    "jeopardy['question_overlap'] = questions_overlap"
   ]
  },
  {
   "cell_type": "code",
   "execution_count": 18,
   "metadata": {
    "collapsed": false
   },
   "outputs": [
    {
     "data": {
      "text/plain": [
       "0.6908737315671962"
      ]
     },
     "execution_count": 18,
     "metadata": {},
     "output_type": "execute_result"
    }
   ],
   "source": [
    "jeopardy['question_overlap'].mean()"
   ]
  },
  {
   "cell_type": "markdown",
   "metadata": {},
   "source": [
    "I added the overlap list as a new column to my data set and took the mean. This percentage tells me the chances that a question appears more than once is about 69%. It's worth noting that this isn't a wholly representative sample because it comprises only 10% of all questions asked on Jeopardy."
   ]
  },
  {
   "cell_type": "markdown",
   "metadata": {},
   "source": [
    "I now want to determine what questions I need to study to maximize my earnings. I'll start by building function that filters question values less than or equal to $800, and creating a boolean column that shows me which row corresponds to a high value question."
   ]
  },
  {
   "cell_type": "code",
   "execution_count": 22,
   "metadata": {
    "collapsed": true
   },
   "outputs": [],
   "source": [
    "def values(row):\n",
    "    value = 0\n",
    "    if row['clean_value'] > 800:\n",
    "        value = 1\n",
    "    return value\n"
   ]
  },
  {
   "cell_type": "code",
   "execution_count": 25,
   "metadata": {
    "collapsed": false
   },
   "outputs": [
    {
     "data": {
      "text/plain": [
       "0    0\n",
       "1    0\n",
       "2    0\n",
       "3    0\n",
       "4    0\n",
       "Name: high_value, dtype: int64"
      ]
     },
     "execution_count": 25,
     "metadata": {},
     "output_type": "execute_result"
    }
   ],
   "source": [
    "jeopardy['high_value'] = jeopardy.apply(values,axis=1)\n",
    "jeopardy['high_value'].head()"
   ]
  },
  {
   "cell_type": "markdown",
   "metadata": {},
   "source": [
    "Next, I want to see which terms appear most frequently in each high value questions. A chi-squared test will allow me to do this, The following function which accepts a word as input will allow me to do this:"
   ]
  },
  {
   "cell_type": "code",
   "execution_count": 30,
   "metadata": {
    "collapsed": false
   },
   "outputs": [],
   "source": [
    "def counts(word):\n",
    "    low_count = 0\n",
    "    high_count = 0\n",
    "    #I'll start with values that correspond to the number of times a word appears.\n",
    "    #I'll start with 0 to begin the count.\n",
    "    #Then I'll loop through each row in the data set and split the question column\n",
    "    #into individual words.\n",
    "    for i, row in jeopardy.iterrows():\n",
    "        words = row['clean_question'].split(\" \")\n",
    "    #If the input word appears in my question and its row corresponds to a high\n",
    "    #value question, high_count will increase by 1. If this is not the case, \n",
    "    #low_count will increase by 1. \n",
    "        if word in words:\n",
    "            if row['high_value'] == 1:\n",
    "                high_count += 1\n",
    "            else:\n",
    "                low_count += 1\n",
    "    return high_count, low_count\n",
    "#The returned output is the new values of low count and high count.\n"
   ]
  },
  {
   "cell_type": "markdown",
   "metadata": {},
   "source": [
    "Before applying this function, I'll return to my term_used set and convert it to a list. Remember, this set contains all words used in each question. To ensure I don't get overloaded, I selected a sample of five words."
   ]
  },
  {
   "cell_type": "code",
   "execution_count": null,
   "metadata": {
    "collapsed": false
   },
   "outputs": [],
   "source": [
    "observed_expected = []\n",
    "terms_used = list(terms_used)\n",
    "comparison_terms = terms_used[:5]\n",
    "comparison_terms"
   ]
  },
  {
   "cell_type": "markdown",
   "metadata": {},
   "source": [
    "Now that I have my list of terms to compare, I'll loop through each term, applying my counts function to determine whether or not the word corresponds to a high value or low value question. I then stored these values in a new list, observed_expected. The list yields smaller, two item lists that contain the number of times a word appears in a high value question, and the number of times it appears in a low value question."
   ]
  },
  {
   "cell_type": "code",
   "execution_count": null,
   "metadata": {
    "collapsed": false
   },
   "outputs": [],
   "source": [
    "for term in comparison_terms:\n",
    "    val = counts(term)\n",
    "    observed_expected.append(val)"
   ]
  },
  {
   "cell_type": "markdown",
   "metadata": {},
   "source": [
    "The final step is to loop through this list to output a new list of chi-squared values."
   ]
  },
  {
   "cell_type": "code",
   "execution_count": 38,
   "metadata": {
    "collapsed": false
   },
   "outputs": [],
   "source": [
    "#First, I want to see the total instances in which a high value and low value question\n",
    "#appears, so I simply took the total number of rows in a filtered version of my\n",
    "#dataset.\n",
    "high_value_count = jeopardy[jeopardy['high_value'] == 1].shape[0]\n",
    "low_value_count = jeopardy[jeopardy['high_value'] == 0].shape[0]\n",
    "chi_squared = []\n",
    "\n",
    "import numpy as np\n",
    "from scipy.stats import chisquare \n",
    "\n",
    "#Next comes the loop.\n",
    "for item in observed_expected:\n",
    "#The loop first takes the sum of the two values in each list, and divides that number\n",
    "#by the total number of rows in the data set. This shows me the number of times\n",
    "#an item in the list appears as a percent of the whole data set.\n",
    "    total = sum(item)\n",
    "    total_prop = total / jeopardy.shape[0]\n",
    "#I'll then multiply my ratio by the total number of high value rows and low value\n",
    "#rows to get an expected value for each.\n",
    "    exp_high = total_prop * high_value_count\n",
    "    exp_low = total_prop * low_value_count\n",
    "#I then create an array containing my observed values - that is the actual number\n",
    "#of instances a word appears in a low or high value question - and an array \n",
    "#containing my expected values - that is the probability I'll see either a low\n",
    "#or high value question in my data set. \n",
    "    observed = np.array([item[0], item[1]])\n",
    "    expected = np.array([exp_high, exp_low])\n",
    "#The final step is to take a chi-squared value for each word and append to it a\n",
    "#new list.\n",
    "    chi_squared.append(chisquare(observed, expected))\n"
   ]
  },
  {
   "cell_type": "code",
   "execution_count": 39,
   "metadata": {
    "collapsed": false
   },
   "outputs": [
    {
     "data": {
      "text/plain": [
       "[Power_divergenceResult(statistic=4.122707846712507e-05, pvalue=0.9948769527982859),\n",
       " Power_divergenceResult(statistic=1.323484394756106, pvalue=0.24996766692297967),\n",
       " Power_divergenceResult(statistic=0.3308710986890265, pvalue=0.565146603267378),\n",
       " Power_divergenceResult(statistic=0.6765980594008285, pvalue=0.4107606373026974),\n",
       " Power_divergenceResult(statistic=3.022325020112631, pvalue=0.08212564786568953)]"
      ]
     },
     "execution_count": 39,
     "metadata": {},
     "output_type": "execute_result"
    }
   ],
   "source": [
    "chi_squared"
   ]
  },
  {
   "cell_type": "markdown",
   "metadata": {
    "collapsed": true
   },
   "source": [
    "These tests show us the squared difference, on average, between how often we expect each word in our sample list to appear in a low value question and a high value question. For the first word, there is a very small difference between what questions we expect it to appear in and where it actually appears, which may appear to be a good thing for studying. If we expect that word to appear in more high value questions, we should study it! However, our p-value for that word tells us there is a near 100% probability that difference was the result of chance. In fact, all p-values for our sample words are above the threshold for statistical significance. It may be best to take a look at chi-squared values for more words, or just focus on words that appear most frequently."
   ]
  }
 ],
 "metadata": {
  "kernelspec": {
   "display_name": "Python 3",
   "language": "python",
   "name": "python3"
  },
  "language_info": {
   "codemirror_mode": {
    "name": "ipython",
    "version": 3
   },
   "file_extension": ".py",
   "mimetype": "text/x-python",
   "name": "python",
   "nbconvert_exporter": "python",
   "pygments_lexer": "ipython3",
   "version": "3.4.3"
  }
 },
 "nbformat": 4,
 "nbformat_minor": 0
}
