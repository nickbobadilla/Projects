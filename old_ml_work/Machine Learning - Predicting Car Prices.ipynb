{
 "cells": [
  {
   "cell_type": "markdown",
   "metadata": {},
   "source": [
    "The following is an application of machine learning using the k-nearest neighbors algorithm to predict a car's market price. The data set comes from UCI's machine learning repository and includes attributes of a typical car. \n",
    "\n",
    "My process began with narrowing down my data set to include attributes that were most predictive of a car's market value. I then cleaned the data by removing unnecessary punctuation, converting data types and replacing null values."
   ]
  },
  {
   "cell_type": "code",
   "execution_count": 2,
   "metadata": {
    "collapsed": false
   },
   "outputs": [
    {
     "name": "stdout",
     "output_type": "stream",
     "text": [
      "   symboling normalized-losses         make fuel-type aspiration num-of-doors  \\\n",
      "0          3                 ?  alfa-romero       gas        std          two   \n",
      "1          3                 ?  alfa-romero       gas        std          two   \n",
      "2          1                 ?  alfa-romero       gas        std          two   \n",
      "3          2               164         audi       gas        std         four   \n",
      "4          2               164         audi       gas        std         four   \n",
      "\n",
      "    body-style drive-wheels engine-location  wheel-base  ...    engine-size  \\\n",
      "0  convertible          rwd           front        88.6  ...            130   \n",
      "1  convertible          rwd           front        88.6  ...            130   \n",
      "2    hatchback          rwd           front        94.5  ...            152   \n",
      "3        sedan          fwd           front        99.8  ...            109   \n",
      "4        sedan          4wd           front        99.4  ...            136   \n",
      "\n",
      "   fuel-system  bore  stroke compression-rate horsepower  peak-rpm city-mpg  \\\n",
      "0         mpfi  3.47    2.68              9.0        111      5000       21   \n",
      "1         mpfi  3.47    2.68              9.0        111      5000       21   \n",
      "2         mpfi  2.68    3.47              9.0        154      5000       19   \n",
      "3         mpfi  3.19    3.40             10.0        102      5500       24   \n",
      "4         mpfi  3.19    3.40              8.0        115      5500       18   \n",
      "\n",
      "  highway-mpg  price  \n",
      "0          27  13495  \n",
      "1          27  16500  \n",
      "2          26  16500  \n",
      "3          30  13950  \n",
      "4          22  17450  \n",
      "\n",
      "[5 rows x 26 columns]\n"
     ]
    }
   ],
   "source": [
    "import pandas as pd\n",
    "import numpy as np\n",
    "cols = ['symboling', 'normalized-losses', 'make', 'fuel-type', 'aspiration', 'num-of-doors', 'body-style', \n",
    "        'drive-wheels', 'engine-location', 'wheel-base', 'length', 'width', 'height', 'curb-weight', 'engine-type', \n",
    "        'num-of-cylinders', 'engine-size', 'fuel-system', 'bore', 'stroke', 'compression-rate', 'horsepower', 'peak-rpm', 'city-mpg', 'highway-mpg', 'price']\n",
    "cars = pd.read_csv('imports-85.data',names=cols)\n",
    "print(cars.head())"
   ]
  },
  {
   "cell_type": "code",
   "execution_count": 3,
   "metadata": {
    "collapsed": false
   },
   "outputs": [],
   "source": [
    "cars[cars['normalized-losses'] == '?'].shape[0]\n",
    "cars_cont_col = ['normalized-losses', 'wheel-base', 'length', 'width', 'height', 'curb-weight', 'bore', 'stroke', 'compression-rate', 'horsepower', 'peak-rpm', 'city-mpg', 'highway-mpg', 'price']\n",
    "continuous_cars = cars[cars_cont_col]"
   ]
  },
  {
   "cell_type": "code",
   "execution_count": 4,
   "metadata": {
    "collapsed": false
   },
   "outputs": [],
   "source": [
    "new_cars = continuous_cars.replace('?',np.nan)"
   ]
  },
  {
   "cell_type": "code",
   "execution_count": 5,
   "metadata": {
    "collapsed": false
   },
   "outputs": [
    {
     "name": "stdout",
     "output_type": "stream",
     "text": [
      "<class 'pandas.core.frame.DataFrame'>\n",
      "RangeIndex: 205 entries, 0 to 204\n",
      "Data columns (total 14 columns):\n",
      "normalized-losses    164 non-null object\n",
      "wheel-base           205 non-null float64\n",
      "length               205 non-null float64\n",
      "width                205 non-null float64\n",
      "height               205 non-null float64\n",
      "curb-weight          205 non-null int64\n",
      "bore                 201 non-null object\n",
      "stroke               201 non-null object\n",
      "compression-rate     205 non-null float64\n",
      "horsepower           203 non-null object\n",
      "peak-rpm             203 non-null object\n",
      "city-mpg             205 non-null int64\n",
      "highway-mpg          205 non-null int64\n",
      "price                201 non-null object\n",
      "dtypes: float64(5), int64(3), object(6)\n",
      "memory usage: 22.5+ KB\n"
     ]
    }
   ],
   "source": [
    "new_cars.info()"
   ]
  },
  {
   "cell_type": "code",
   "execution_count": 6,
   "metadata": {
    "collapsed": false
   },
   "outputs": [
    {
     "data": {
      "text/plain": [
       "normalized-losses    41\n",
       "wheel-base            0\n",
       "length                0\n",
       "width                 0\n",
       "height                0\n",
       "curb-weight           0\n",
       "bore                  4\n",
       "stroke                4\n",
       "compression-rate      0\n",
       "horsepower            2\n",
       "peak-rpm              2\n",
       "city-mpg              0\n",
       "highway-mpg           0\n",
       "price                 4\n",
       "dtype: int64"
      ]
     },
     "execution_count": 6,
     "metadata": {},
     "output_type": "execute_result"
    }
   ],
   "source": [
    "new_cars = new_cars.astype('float')\n",
    "new_cars.isnull().sum()"
   ]
  },
  {
   "cell_type": "code",
   "execution_count": 7,
   "metadata": {
    "collapsed": false
   },
   "outputs": [],
   "source": [
    "new_cars = new_cars.dropna(subset=['price'])"
   ]
  },
  {
   "cell_type": "code",
   "execution_count": 8,
   "metadata": {
    "collapsed": false
   },
   "outputs": [
    {
     "data": {
      "text/plain": [
       "normalized-losses    37\n",
       "wheel-base            0\n",
       "length                0\n",
       "width                 0\n",
       "height                0\n",
       "curb-weight           0\n",
       "bore                  4\n",
       "stroke                4\n",
       "compression-rate      0\n",
       "horsepower            2\n",
       "peak-rpm              2\n",
       "city-mpg              0\n",
       "highway-mpg           0\n",
       "price                 0\n",
       "dtype: int64"
      ]
     },
     "execution_count": 8,
     "metadata": {},
     "output_type": "execute_result"
    }
   ],
   "source": [
    "new_cars.isnull().sum()"
   ]
  },
  {
   "cell_type": "markdown",
   "metadata": {},
   "source": [
    "Instead of dropping all remaining rows with null values, I filled the empty rows with mean values of each column. "
   ]
  },
  {
   "cell_type": "code",
   "execution_count": 9,
   "metadata": {
    "collapsed": true
   },
   "outputs": [],
   "source": [
    "new_cars = new_cars.fillna(new_cars.mean())"
   ]
  },
  {
   "cell_type": "code",
   "execution_count": 10,
   "metadata": {
    "collapsed": false
   },
   "outputs": [],
   "source": [
    "new_cars.isnull().sum()\n",
    "price_col = new_cars['price']"
   ]
  },
  {
   "cell_type": "code",
   "execution_count": 11,
   "metadata": {
    "collapsed": true
   },
   "outputs": [],
   "source": [
    "normal_cars = (new_cars - new_cars.mean())/new_cars.std()\n",
    "normal_cars['price'] = price_col"
   ]
  },
  {
   "cell_type": "markdown",
   "metadata": {},
   "source": [
    "Behold our clean, normalized data set!"
   ]
  },
  {
   "cell_type": "code",
   "execution_count": 12,
   "metadata": {
    "collapsed": false
   },
   "outputs": [
    {
     "data": {
      "text/html": [
       "<div>\n",
       "<style scoped>\n",
       "    .dataframe tbody tr th:only-of-type {\n",
       "        vertical-align: middle;\n",
       "    }\n",
       "\n",
       "    .dataframe tbody tr th {\n",
       "        vertical-align: top;\n",
       "    }\n",
       "\n",
       "    .dataframe thead th {\n",
       "        text-align: right;\n",
       "    }\n",
       "</style>\n",
       "<table border=\"1\" class=\"dataframe\">\n",
       "  <thead>\n",
       "    <tr style=\"text-align: right;\">\n",
       "      <th></th>\n",
       "      <th>normalized-losses</th>\n",
       "      <th>wheel-base</th>\n",
       "      <th>length</th>\n",
       "      <th>width</th>\n",
       "      <th>height</th>\n",
       "      <th>curb-weight</th>\n",
       "      <th>bore</th>\n",
       "      <th>stroke</th>\n",
       "      <th>compression-rate</th>\n",
       "      <th>horsepower</th>\n",
       "      <th>peak-rpm</th>\n",
       "      <th>city-mpg</th>\n",
       "      <th>highway-mpg</th>\n",
       "      <th>price</th>\n",
       "    </tr>\n",
       "  </thead>\n",
       "  <tbody>\n",
       "    <tr>\n",
       "      <th>0</th>\n",
       "      <td>0.000000</td>\n",
       "      <td>-1.680910</td>\n",
       "      <td>-0.438315</td>\n",
       "      <td>-0.851335</td>\n",
       "      <td>-2.029015</td>\n",
       "      <td>-0.014821</td>\n",
       "      <td>0.519597</td>\n",
       "      <td>-1.825369</td>\n",
       "      <td>-0.290709</td>\n",
       "      <td>0.203476</td>\n",
       "      <td>-0.245942</td>\n",
       "      <td>-0.650624</td>\n",
       "      <td>-0.540937</td>\n",
       "      <td>13495.0</td>\n",
       "    </tr>\n",
       "    <tr>\n",
       "      <th>1</th>\n",
       "      <td>0.000000</td>\n",
       "      <td>-1.680910</td>\n",
       "      <td>-0.438315</td>\n",
       "      <td>-0.851335</td>\n",
       "      <td>-2.029015</td>\n",
       "      <td>-0.014821</td>\n",
       "      <td>0.519597</td>\n",
       "      <td>-1.825369</td>\n",
       "      <td>-0.290709</td>\n",
       "      <td>0.203476</td>\n",
       "      <td>-0.245942</td>\n",
       "      <td>-0.650624</td>\n",
       "      <td>-0.540937</td>\n",
       "      <td>16500.0</td>\n",
       "    </tr>\n",
       "    <tr>\n",
       "      <th>2</th>\n",
       "      <td>0.000000</td>\n",
       "      <td>-0.708334</td>\n",
       "      <td>-0.243544</td>\n",
       "      <td>-0.185134</td>\n",
       "      <td>-0.558319</td>\n",
       "      <td>0.516789</td>\n",
       "      <td>-2.427374</td>\n",
       "      <td>0.674254</td>\n",
       "      <td>-0.290709</td>\n",
       "      <td>1.354267</td>\n",
       "      <td>-0.245942</td>\n",
       "      <td>-0.961995</td>\n",
       "      <td>-0.687669</td>\n",
       "      <td>16500.0</td>\n",
       "    </tr>\n",
       "    <tr>\n",
       "      <th>3</th>\n",
       "      <td>1.312654</td>\n",
       "      <td>0.165335</td>\n",
       "      <td>0.194690</td>\n",
       "      <td>0.147966</td>\n",
       "      <td>0.217881</td>\n",
       "      <td>-0.422710</td>\n",
       "      <td>-0.524899</td>\n",
       "      <td>0.452769</td>\n",
       "      <td>-0.041019</td>\n",
       "      <td>-0.037387</td>\n",
       "      <td>0.799836</td>\n",
       "      <td>-0.183569</td>\n",
       "      <td>-0.100741</td>\n",
       "      <td>13950.0</td>\n",
       "    </tr>\n",
       "    <tr>\n",
       "      <th>4</th>\n",
       "      <td>1.312654</td>\n",
       "      <td>0.099398</td>\n",
       "      <td>0.194690</td>\n",
       "      <td>0.243137</td>\n",
       "      <td>0.217881</td>\n",
       "      <td>0.518722</td>\n",
       "      <td>-0.524899</td>\n",
       "      <td>0.452769</td>\n",
       "      <td>-0.540399</td>\n",
       "      <td>0.310527</td>\n",
       "      <td>0.799836</td>\n",
       "      <td>-1.117680</td>\n",
       "      <td>-1.274597</td>\n",
       "      <td>17450.0</td>\n",
       "    </tr>\n",
       "  </tbody>\n",
       "</table>\n",
       "</div>"
      ],
      "text/plain": [
       "   normalized-losses  wheel-base    length     width    height  curb-weight  \\\n",
       "0           0.000000   -1.680910 -0.438315 -0.851335 -2.029015    -0.014821   \n",
       "1           0.000000   -1.680910 -0.438315 -0.851335 -2.029015    -0.014821   \n",
       "2           0.000000   -0.708334 -0.243544 -0.185134 -0.558319     0.516789   \n",
       "3           1.312654    0.165335  0.194690  0.147966  0.217881    -0.422710   \n",
       "4           1.312654    0.099398  0.194690  0.243137  0.217881     0.518722   \n",
       "\n",
       "       bore    stroke  compression-rate  horsepower  peak-rpm  city-mpg  \\\n",
       "0  0.519597 -1.825369         -0.290709    0.203476 -0.245942 -0.650624   \n",
       "1  0.519597 -1.825369         -0.290709    0.203476 -0.245942 -0.650624   \n",
       "2 -2.427374  0.674254         -0.290709    1.354267 -0.245942 -0.961995   \n",
       "3 -0.524899  0.452769         -0.041019   -0.037387  0.799836 -0.183569   \n",
       "4 -0.524899  0.452769         -0.540399    0.310527  0.799836 -1.117680   \n",
       "\n",
       "   highway-mpg    price  \n",
       "0    -0.540937  13495.0  \n",
       "1    -0.540937  16500.0  \n",
       "2    -0.687669  16500.0  \n",
       "3    -0.100741  13950.0  \n",
       "4    -1.274597  17450.0  "
      ]
     },
     "execution_count": 12,
     "metadata": {},
     "output_type": "execute_result"
    }
   ],
   "source": [
    "normal_cars.head()"
   ]
  },
  {
   "cell_type": "markdown",
   "metadata": {},
   "source": [
    "Now that the data is clean, we can move on to the actual predictions."
   ]
  },
  {
   "cell_type": "code",
   "execution_count": 13,
   "metadata": {
    "collapsed": false
   },
   "outputs": [],
   "source": [
    "from sklearn.neighbors import KNeighborsRegressor\n",
    "from sklearn.metrics import mean_squared_error"
   ]
  },
  {
   "cell_type": "markdown",
   "metadata": {},
   "source": [
    "Next, I define a function that takes as input a set of columns on which to train my model, the target column I'm looking to predict, and a dataframe. The output is the squared error between the actual target values and predicted target values."
   ]
  },
  {
   "cell_type": "code",
   "execution_count": 17,
   "metadata": {
    "collapsed": true
   },
   "outputs": [],
   "source": [
    "features = ['normalized-losses','horsepower','city-mpg','highway-mpg']\n",
    "\n",
    "def knn_train_test(train,target,df):\n",
    "    #The function must first split the data into training and testing sets.\n",
    "    first = int(round(df.shape[0]*.5,0))\n",
    "    #Next, it randomizes the values in the dataset to avoid bias based on its initial ordering.\n",
    "    np.random.seed(1)\n",
    "    shuffled_index = np.random.permutation(df.index)\n",
    "    rand_df = df.reindex(shuffled_index)\n",
    "    train_df = rand_df.iloc[:first]\n",
    "    test_df = rand_df.iloc[first:]\n",
    "    #Then the machine learning kicks in. The function instantiates a KNeighborsRegressor class, fits the model \n",
    "    #on a training set and then makes a prediction based on my target column.\n",
    "    knn = KNeighborsRegressor()\n",
    "    knn.fit(train_df[[train]],train_df[target])\n",
    "    prediction = knn.predict(test_df[[train]])\n",
    "    #The final output is a root mean squared error describing the squared difference between our target values and predicted\n",
    "    #values created by the model.\n",
    "    rmse = np.sqrt(mean_squared_error(test_df[target],prediction))\n",
    "    return rmse"
   ]
  },
  {
   "cell_type": "markdown",
   "metadata": {},
   "source": [
    "The next step is to use my function to determine which columns perform the best. My 'best', I mean which produce the lowest error value between actual and predicted market price."
   ]
  },
  {
   "cell_type": "code",
   "execution_count": 18,
   "metadata": {
    "collapsed": false
   },
   "outputs": [
    {
     "data": {
      "text/plain": [
       "horsepower           4047.376555\n",
       "curb-weight          4453.680703\n",
       "highway-mpg          4625.047587\n",
       "city-mpg             4754.637378\n",
       "width                4772.510209\n",
       "length               5429.644740\n",
       "wheel-base           5461.490336\n",
       "compression-rate     6606.571346\n",
       "bore                 6793.057484\n",
       "normalized-losses    7337.284820\n",
       "peak-rpm             7643.070323\n",
       "stroke               8006.096427\n",
       "height               8132.467732\n",
       "dtype: float64"
      ]
     },
     "execution_count": 18,
     "metadata": {},
     "output_type": "execute_result"
    }
   ],
   "source": [
    "train_cols = normal_cars.columns.drop('price')\n",
    "rmse_results = {}\n",
    "\n",
    "for col in train_cols:\n",
    "    rmse = knn_train_test(col,'price',normal_cars)\n",
    "    rmse_results[col] = rmse\n",
    "    \n",
    "\n",
    "rmse_results_series = pd.Series(rmse_results)\n",
    "rmse_results_series.sort_values()"
   ]
  },
  {
   "cell_type": "markdown",
   "metadata": {},
   "source": [
    "To enhance my model's precision, I want to determine which value of k is optimal. In other words, I want to see how many nearby values are necessary to ensure the most accurate prediction. To do so, I embedded a 'for' loop in my function, which iterates through a list of k values and outputs a dictionary which contains an input column as key and a list of squared errors corresponding to each value of k. "
   ]
  },
  {
   "cell_type": "code",
   "execution_count": 19,
   "metadata": {
    "collapsed": false
   },
   "outputs": [],
   "source": [
    "def knn_train_test(train,target,df):\n",
    "    first = int(round(df.shape[0]*.5,0))\n",
    "    np.random.seed(1)\n",
    "    shuffled_index = np.random.permutation(df.index)\n",
    "    rand_df = df.reindex(shuffled_index)\n",
    "    \n",
    "    train_df = rand_df.iloc[:first]\n",
    "    test_df = rand_df.iloc[first:]\n",
    "    \n",
    "    k_list = [1,3,5,7,9]\n",
    "    k_rmses = {}\n",
    "    \n",
    "    for k in k_list:\n",
    "        knn = KNeighborsRegressor(n_neighbors=k)\n",
    "        knn.fit(train_df[[train]],train_df[target])\n",
    "        prediction = knn.predict(test_df[[train]])\n",
    "        rmse = np.sqrt(mean_squared_error(test_df[target],prediction))\n",
    "        \n",
    "        k_rmses[k] = rmse\n",
    "    return k_rmses"
   ]
  },
  {
   "cell_type": "code",
   "execution_count": 20,
   "metadata": {
    "collapsed": false
   },
   "outputs": [],
   "source": [
    "train_cols = normal_cars.columns.drop('price')\n",
    "rmse_results = {}\n",
    "\n",
    "for col in train_cols:\n",
    "        rmse = knn_train_test(col,'price',normal_cars)\n",
    "        rmse_results[col] = rmse"
   ]
  },
  {
   "cell_type": "markdown",
   "metadata": {},
   "source": [
    "I iterated through each column and value of k to produce a rather large dictionary with squared errors corresponding to each column and value of k. To easier comprehend my results, I mapped these values to a line chart. "
   ]
  },
  {
   "cell_type": "code",
   "execution_count": 21,
   "metadata": {
    "collapsed": false
   },
   "outputs": [
    {
     "data": {
      "text/plain": [
       "{'bore': {1: 8602.58848450066,\n",
       "  3: 6977.123411794459,\n",
       "  5: 6793.0574839170895,\n",
       "  7: 6828.8678082042015,\n",
       "  9: 6865.299025218018},\n",
       " 'city-mpg': {1: 5901.143574354764,\n",
       "  3: 4608.180446380397,\n",
       "  5: 4754.637378183515,\n",
       "  7: 5035.456896910003,\n",
       "  9: 5333.1616578530175},\n",
       " 'compression-rate': {1: 8083.070177540802,\n",
       "  3: 7379.623321663306,\n",
       "  5: 6606.571345933599,\n",
       "  7: 6732.032905446027,\n",
       "  9: 7019.9512505224375},\n",
       " 'curb-weight': {1: 5288.0195725810245,\n",
       "  3: 5011.8789151002,\n",
       "  5: 4453.680702653493,\n",
       "  7: 4330.149364501495,\n",
       "  9: 4632.92525121302},\n",
       " 'height': {1: 8904.04645636071,\n",
       "  3: 8277.609643045525,\n",
       "  5: 8132.467731772246,\n",
       "  7: 7704.344964170201,\n",
       "  9: 7779.56469282989},\n",
       " 'highway-mpg': {1: 6025.594966720739,\n",
       "  3: 4627.908507167689,\n",
       "  5: 4625.047587445843,\n",
       "  7: 4722.975580907234,\n",
       "  9: 5201.019510000462},\n",
       " 'horsepower': {1: 4170.054848037801,\n",
       "  3: 4010.5218032337666,\n",
       "  5: 4047.376554982472,\n",
       "  7: 4383.729138557079,\n",
       "  9: 4505.9694416104885},\n",
       " 'length': {1: 4577.003915399697,\n",
       "  3: 5087.460276710444,\n",
       "  5: 5429.644739577333,\n",
       "  7: 5307.702178308323,\n",
       "  9: 5383.054514833446},\n",
       " 'normalized-losses': {1: 7779.606037519503,\n",
       "  3: 7480.692360872743,\n",
       "  5: 7337.2848203845515,\n",
       "  7: 7795.000930504562,\n",
       "  9: 7705.82454665913},\n",
       " 'peak-rpm': {1: 9511.480067750124,\n",
       "  3: 8529.467274695355,\n",
       "  5: 7643.0703228739185,\n",
       "  7: 7438.086088390939,\n",
       "  9: 7272.008119652165},\n",
       " 'stroke': {1: 9116.495955406906,\n",
       "  3: 7336.8141642206,\n",
       "  5: 8006.096427246941,\n",
       "  7: 7770.327723636479,\n",
       "  9: 7738.927579700744},\n",
       " 'wheel-base': {1: 4493.734068810494,\n",
       "  3: 5120.161506064513,\n",
       "  5: 5461.490335934409,\n",
       "  7: 5448.173408324034,\n",
       "  9: 5738.621574471594},\n",
       " 'width': {1: 4559.257297950061,\n",
       "  3: 4606.421075087697,\n",
       "  5: 4772.510209128695,\n",
       "  7: 4715.979827895643,\n",
       "  9: 4736.091903473983}}"
      ]
     },
     "execution_count": 21,
     "metadata": {},
     "output_type": "execute_result"
    }
   ],
   "source": [
    "import matplotlib.pyplot as plt\n",
    "%matplotlib inline\n",
    "\n",
    "rmse_results"
   ]
  },
  {
   "cell_type": "code",
   "execution_count": 22,
   "metadata": {
    "collapsed": false
   },
   "outputs": [
    {
     "data": {
      "image/png": "[encoded data removed]",
      "text/plain": [
       "<matplotlib.figure.Figure at 0x7f4197caf048>"
      ]
     },
     "metadata": {},
     "output_type": "display_data"
    }
   ],
   "source": [
    "for k,v in rmse_results.items():\n",
    "    x = list(v.keys())\n",
    "    y = list(v.values())\n",
    "    \n",
    "    plt.plot(x,y)\n",
    "    plt.xlabel('k value')\n",
    "    plt.ylabel('RMSE')"
   ]
  },
  {
   "cell_type": "markdown",
   "metadata": {},
   "source": [
    "While the results vary, it appears the k value that yields the lowest error for each column is 5, which is the function's default."
   ]
  },
  {
   "cell_type": "markdown",
   "metadata": {},
   "source": [
    "Next, I want to plug in multiple columns to determine what combination is most predictive at the default k value. To do so, I remove the loop from my prior function."
   ]
  },
  {
   "cell_type": "code",
   "execution_count": 23,
   "metadata": {
    "collapsed": false
   },
   "outputs": [],
   "source": [
    "def knn_train_test(train_cols,target,df):\n",
    "    first = int(round(df.shape[0]*.5,0))\n",
    "    np.random.seed(1)\n",
    "    shuffled_index = np.random.permutation(df.index)\n",
    "    rand_df = df.reindex(shuffled_index)\n",
    "    \n",
    "    train_df = rand_df.iloc[:first]\n",
    "    test_df = rand_df.iloc[first:]\n",
    "    \n",
    "    k_list = [1,3,5,7,9]\n",
    "    k_rmses = {}\n",
    "    \n",
    "    #for k in k_list:\n",
    "    knn = KNeighborsRegressor()\n",
    "    knn.fit(train_df[train_cols],train_df[target])\n",
    "    prediction = knn.predict(test_df[train_cols])\n",
    "    rmse = np.sqrt(mean_squared_error(test_df[target],prediction))\n",
    "        \n",
    "    k_rmses[k] = rmse\n",
    "    return k_rmses"
   ]
  },
  {
   "cell_type": "markdown",
   "metadata": {},
   "source": [
    "I plugged in the columns with the lowest error values, starting with the best two and moving up to include the best five. I stored each result in a dictionary, and then stored all of those results in a larger dictionary.a"
   ]
  },
  {
   "cell_type": "code",
   "execution_count": 24,
   "metadata": {
    "collapsed": true
   },
   "outputs": [],
   "source": [
    "new_rmse_results = {}\n",
    "\n",
    "two_best = ['width','horsepower']\n",
    "rmse_val = knn_train_test(two_best,'price',normal_cars)\n",
    "new_rmse_results['two best'] = rmse_val\n",
    "\n",
    "three_best = ['width','horsepower','curb-weight']\n",
    "rmse_val = knn_train_test(three_best,'price',normal_cars)\n",
    "new_rmse_results['three best'] = rmse_val\n",
    "\n",
    "four_best = ['width','horsepower','curb-weight','highway-mpg']\n",
    "rmse_val = knn_train_test(four_best,'price',normal_cars)\n",
    "new_rmse_results['four best'] = rmse_val\n",
    "\n",
    "five_best = ['width','horsepower','curb-weight','highway-mpg','city-mpg']\n",
    "rmse_val = knn_train_test(five_best,'price',normal_cars)\n",
    "new_rmse_results['five best'] = rmse_val\n"
   ]
  },
  {
   "cell_type": "markdown",
   "metadata": {},
   "source": [
    "Our results show that the three best columns - width, horsepower, and curb-weight - yield the lowest error value and are thus the most predictive when taken together at the default k value. "
   ]
  },
  {
   "cell_type": "code",
   "execution_count": 25,
   "metadata": {
    "collapsed": false
   },
   "outputs": [
    {
     "data": {
      "text/plain": [
       "{'five best': {'city-mpg': 3346.3794863306603},\n",
       " 'four best': {'city-mpg': 3364.4454402465853},\n",
       " 'three best': {'city-mpg': 3315.179311728235},\n",
       " 'two best': {'city-mpg': 3587.6781582974736}}"
      ]
     },
     "execution_count": 25,
     "metadata": {},
     "output_type": "execute_result"
    }
   ],
   "source": [
    "new_rmse_results"
   ]
  },
  {
   "cell_type": "markdown",
   "metadata": {},
   "source": [
    "As a final step, I modified my function to vary the k value from 1 to 25, in order to determine the optimal k value and optimal number of columns to include."
   ]
  },
  {
   "cell_type": "code",
   "execution_count": 26,
   "metadata": {
    "collapsed": false
   },
   "outputs": [],
   "source": [
    "def knn_train_test(train_cols,target,df):\n",
    "    first = int(round(df.shape[0]*.5,0))\n",
    "    np.random.seed(1)\n",
    "    shuffled_index = np.random.permutation(df.index)\n",
    "    rand_df = df.reindex(shuffled_index)\n",
    "    \n",
    "    train_df = rand_df.iloc[:first]\n",
    "    test_df = rand_df.iloc[first:]\n",
    "    \n",
    "    k_list = list(range(1,25))\n",
    "    k_rmses = {}\n",
    "    \n",
    "    for k in k_list:\n",
    "        knn = KNeighborsRegressor(n_neighbors=k)\n",
    "        knn.fit(train_df[train_cols],train_df[target])\n",
    "        prediction = knn.predict(test_df[train_cols])\n",
    "        rmse = np.sqrt(mean_squared_error(test_df[target],prediction))\n",
    "        \n",
    "        k_rmses[k] = rmse\n",
    "    return k_rmses"
   ]
  },
  {
   "cell_type": "code",
   "execution_count": 27,
   "metadata": {
    "collapsed": false
   },
   "outputs": [],
   "source": [
    "n_rmse_results = {}\n",
    "\n",
    "three_best = ['width','horsepower','curb-weight']\n",
    "rmse_val = knn_train_test(three_best,'price',normal_cars)\n",
    "n_rmse_results['three best'] = rmse_val\n",
    "\n",
    "four_best = ['width','horsepower','curb-weight','highway-mpg']\n",
    "rmse_val = knn_train_test(four_best,'price',normal_cars)\n",
    "n_rmse_results['four best'] = rmse_val\n",
    "\n",
    "five_best = ['width','horsepower','curb-weight','highway-mpg','city-mpg']\n",
    "rmse_val = knn_train_test(five_best,'price',normal_cars)\n",
    "n_rmse_results['five best'] = rmse_val"
   ]
  },
  {
   "cell_type": "markdown",
   "metadata": {},
   "source": [
    "I ran my model using the three best up to the five best columns, and stored my results in a dictionary. Each key corresponds to the number of columns included, and the values are a list of squared errors corresponding to a value of k between 1 and 25. "
   ]
  },
  {
   "cell_type": "code",
   "execution_count": 31,
   "metadata": {
    "collapsed": false
   },
   "outputs": [
    {
     "data": {
      "text/plain": [
       "{'five best': {1: 2536.2720615693083,\n",
       "  2: 2959.813922017784,\n",
       "  3: 3111.229799225117,\n",
       "  4: 3199.3074433313604,\n",
       "  5: 3346.3794863306603,\n",
       "  6: 3675.5840031247285,\n",
       "  7: 3881.6214585276716,\n",
       "  8: 3987.024841118288,\n",
       "  9: 3986.2156175243376,\n",
       "  10: 4154.4568632391465,\n",
       "  11: 4317.598994123106,\n",
       "  12: 4477.41729844312,\n",
       "  13: 4497.021859534609,\n",
       "  14: 4461.661821749708,\n",
       "  15: 4492.38034637069,\n",
       "  16: 4552.763836478077,\n",
       "  17: 4585.976537861621,\n",
       "  18: 4644.4509283481775,\n",
       "  19: 4646.0064290900345,\n",
       "  20: 4661.95649416,\n",
       "  21: 4754.46158569013,\n",
       "  22: 4809.777569391321,\n",
       "  23: 4826.84825961205,\n",
       "  24: 4873.1290634705765},\n",
       " 'four best': {1: 2586.502746073459,\n",
       "  2: 2828.392180940953,\n",
       "  3: 3077.1371106240554,\n",
       "  4: 3199.1386762380243,\n",
       "  5: 3364.4454402465853,\n",
       "  6: 3616.3833918202954,\n",
       "  7: 3861.022796953374,\n",
       "  8: 4050.0264938474584,\n",
       "  9: 4071.0341714401775,\n",
       "  10: 4212.593894643551,\n",
       "  11: 4273.165431772904,\n",
       "  12: 4410.265774344844,\n",
       "  13: 4456.848653835364,\n",
       "  14: 4424.140601675838,\n",
       "  15: 4445.740618962054,\n",
       "  16: 4537.567221918906,\n",
       "  17: 4550.27936078968,\n",
       "  18: 4586.952116531163,\n",
       "  19: 4642.1443625189195,\n",
       "  20: 4666.2610042465985,\n",
       "  21: 4685.415687002583,\n",
       "  22: 4733.86188662619,\n",
       "  23: 4800.030670100237,\n",
       "  24: 4849.917262215959},\n",
       " 'three best': {1: 2672.757868525014,\n",
       "  2: 2821.2015026078575,\n",
       "  3: 3135.9799922115503,\n",
       "  4: 3204.253321893626,\n",
       "  5: 3315.179311728235,\n",
       "  6: 3471.0681296102557,\n",
       "  7: 3772.1919269737646,\n",
       "  8: 3962.910759818426,\n",
       "  9: 4094.247502193349,\n",
       "  10: 4110.703779689852,\n",
       "  11: 4251.77253798381,\n",
       "  12: 4330.566366047584,\n",
       "  13: 4298.8259862886025,\n",
       "  14: 4271.101358982335,\n",
       "  15: 4303.033919057443,\n",
       "  16: 4390.435220626321,\n",
       "  17: 4482.3351213269925,\n",
       "  18: 4553.826750555413,\n",
       "  19: 4598.342590974104,\n",
       "  20: 4661.880403295297,\n",
       "  21: 4739.054696356203,\n",
       "  22: 4760.670773572162,\n",
       "  23: 4822.08332792583,\n",
       "  24: 4871.03296157791}}"
      ]
     },
     "execution_count": 31,
     "metadata": {},
     "output_type": "execute_result"
    }
   ],
   "source": [
    "n_rmse_results"
   ]
  },
  {
   "cell_type": "code",
   "execution_count": 33,
   "metadata": {
    "collapsed": false
   },
   "outputs": [
    {
     "data": {
      "image/png": "[encoded data removed]",
      "text/plain": [
       "<matplotlib.figure.Figure at 0x7f4195b0e5c0>"
      ]
     },
     "metadata": {},
     "output_type": "display_data"
    }
   ],
   "source": [
    "for k,v in n_rmse_results.items():\n",
    "    x = list(v.keys())\n",
    "    y = list(v.values())\n",
    "    \n",
    "    plt.plot(x,y)\n",
    "    plt.xlabel('k value')\n",
    "    plt.ylabel('RMSE')"
   ]
  },
  {
   "cell_type": "markdown",
   "metadata": {
    "collapsed": true
   },
   "source": [
    "There are two takeaways from these results:\n",
    "1) As our k values increase, our model yields larger errors, leading me to conclude that this feature is more influential than any number of features we choose to include.\n",
    "2) The model yielding the lowest error learns from five predictors - width,horsepower,curb-weight,highway-mpg,city-mpg - but only for a k value of 1. \n",
    "3) It makes most sense to keep our k value at the default value or lower for this model, as this seems to be the best outcome achieved through the most practical methodology. "
   ]
  },
  {
   "cell_type": "code",
   "execution_count": null,
   "metadata": {
    "collapsed": true
   },
   "outputs": [],
   "source": []
  }
 ],
 "metadata": {
  "kernelspec": {
   "display_name": "Python 3",
   "language": "python",
   "name": "python3"
  },
  "language_info": {
   "codemirror_mode": {
    "name": "ipython",
    "version": 3
   },
   "file_extension": ".py",
   "mimetype": "text/x-python",
   "name": "python",
   "nbconvert_exporter": "python",
   "pygments_lexer": "ipython3",
   "version": "3.4.3"
  }
 },
 "nbformat": 4,
 "nbformat_minor": 2
}
