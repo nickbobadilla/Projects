{
 "cells": [
  {
   "cell_type": "markdown",
   "metadata": {},
   "source": [
    "This project will draw on statistics to determine the best markets in which to advertise e-learning tools. To do so, I will explore this data from freeCodeCamp's 2017 New Coder Survey. freeCodeCamp offers free courses on web development. Because many new coders are drawn to this platform, this survey is ideal to see where users spend the most money on e-learning. From there, I'll be able to identify populations to target. \n",
    "\n",
    "This data set is publically available on github:\n",
    "https://github.com/erictleung/2017-new-coder-survey\n",
    "Each column describes a characteristic of new coders, which span age, college major, and learning method."
   ]
  },
  {
   "cell_type": "code",
   "execution_count": 90,
   "metadata": {
    "collapsed": false
   },
   "outputs": [
    {
     "name": "stderr",
     "output_type": "stream",
     "text": [
      "/dataquest/system/env/python3/lib/python3.4/site-packages/IPython/core/interactiveshell.py:2723: DtypeWarning: Columns (17,62) have mixed types. Specify dtype option on import or set low_memory=False.\n",
      "  interactivity=interactivity, compiler=compiler, result=result)\n"
     ]
    },
    {
     "data": {
      "text/html": [
       "<div>\n",
       "<style scoped>\n",
       "    .dataframe tbody tr th:only-of-type {\n",
       "        vertical-align: middle;\n",
       "    }\n",
       "\n",
       "    .dataframe tbody tr th {\n",
       "        vertical-align: top;\n",
       "    }\n",
       "\n",
       "    .dataframe thead th {\n",
       "        text-align: right;\n",
       "    }\n",
       "</style>\n",
       "<table border=\"1\" class=\"dataframe\">\n",
       "  <thead>\n",
       "    <tr style=\"text-align: right;\">\n",
       "      <th></th>\n",
       "      <th>Age</th>\n",
       "      <th>AttendedBootcamp</th>\n",
       "      <th>BootcampFinish</th>\n",
       "      <th>BootcampLoanYesNo</th>\n",
       "      <th>BootcampName</th>\n",
       "      <th>BootcampRecommend</th>\n",
       "      <th>ChildrenNumber</th>\n",
       "      <th>CityPopulation</th>\n",
       "      <th>CodeEventConferences</th>\n",
       "      <th>CodeEventDjangoGirls</th>\n",
       "      <th>...</th>\n",
       "      <th>YouTubeFCC</th>\n",
       "      <th>YouTubeFunFunFunction</th>\n",
       "      <th>YouTubeGoogleDev</th>\n",
       "      <th>YouTubeLearnCode</th>\n",
       "      <th>YouTubeLevelUpTuts</th>\n",
       "      <th>YouTubeMIT</th>\n",
       "      <th>YouTubeMozillaHacks</th>\n",
       "      <th>YouTubeOther</th>\n",
       "      <th>YouTubeSimplilearn</th>\n",
       "      <th>YouTubeTheNewBoston</th>\n",
       "    </tr>\n",
       "  </thead>\n",
       "  <tbody>\n",
       "    <tr>\n",
       "      <th>0</th>\n",
       "      <td>27.0</td>\n",
       "      <td>0.0</td>\n",
       "      <td>NaN</td>\n",
       "      <td>NaN</td>\n",
       "      <td>NaN</td>\n",
       "      <td>NaN</td>\n",
       "      <td>NaN</td>\n",
       "      <td>more than 1 million</td>\n",
       "      <td>NaN</td>\n",
       "      <td>NaN</td>\n",
       "      <td>...</td>\n",
       "      <td>NaN</td>\n",
       "      <td>NaN</td>\n",
       "      <td>NaN</td>\n",
       "      <td>NaN</td>\n",
       "      <td>NaN</td>\n",
       "      <td>NaN</td>\n",
       "      <td>NaN</td>\n",
       "      <td>NaN</td>\n",
       "      <td>NaN</td>\n",
       "      <td>NaN</td>\n",
       "    </tr>\n",
       "    <tr>\n",
       "      <th>1</th>\n",
       "      <td>34.0</td>\n",
       "      <td>0.0</td>\n",
       "      <td>NaN</td>\n",
       "      <td>NaN</td>\n",
       "      <td>NaN</td>\n",
       "      <td>NaN</td>\n",
       "      <td>NaN</td>\n",
       "      <td>less than 100,000</td>\n",
       "      <td>NaN</td>\n",
       "      <td>NaN</td>\n",
       "      <td>...</td>\n",
       "      <td>1.0</td>\n",
       "      <td>NaN</td>\n",
       "      <td>NaN</td>\n",
       "      <td>NaN</td>\n",
       "      <td>NaN</td>\n",
       "      <td>NaN</td>\n",
       "      <td>NaN</td>\n",
       "      <td>NaN</td>\n",
       "      <td>NaN</td>\n",
       "      <td>NaN</td>\n",
       "    </tr>\n",
       "    <tr>\n",
       "      <th>2</th>\n",
       "      <td>21.0</td>\n",
       "      <td>0.0</td>\n",
       "      <td>NaN</td>\n",
       "      <td>NaN</td>\n",
       "      <td>NaN</td>\n",
       "      <td>NaN</td>\n",
       "      <td>NaN</td>\n",
       "      <td>more than 1 million</td>\n",
       "      <td>NaN</td>\n",
       "      <td>NaN</td>\n",
       "      <td>...</td>\n",
       "      <td>NaN</td>\n",
       "      <td>NaN</td>\n",
       "      <td>NaN</td>\n",
       "      <td>1.0</td>\n",
       "      <td>1.0</td>\n",
       "      <td>NaN</td>\n",
       "      <td>NaN</td>\n",
       "      <td>NaN</td>\n",
       "      <td>NaN</td>\n",
       "      <td>NaN</td>\n",
       "    </tr>\n",
       "    <tr>\n",
       "      <th>3</th>\n",
       "      <td>26.0</td>\n",
       "      <td>0.0</td>\n",
       "      <td>NaN</td>\n",
       "      <td>NaN</td>\n",
       "      <td>NaN</td>\n",
       "      <td>NaN</td>\n",
       "      <td>NaN</td>\n",
       "      <td>between 100,000 and 1 million</td>\n",
       "      <td>NaN</td>\n",
       "      <td>NaN</td>\n",
       "      <td>...</td>\n",
       "      <td>1.0</td>\n",
       "      <td>1.0</td>\n",
       "      <td>NaN</td>\n",
       "      <td>NaN</td>\n",
       "      <td>1.0</td>\n",
       "      <td>NaN</td>\n",
       "      <td>NaN</td>\n",
       "      <td>NaN</td>\n",
       "      <td>NaN</td>\n",
       "      <td>NaN</td>\n",
       "    </tr>\n",
       "    <tr>\n",
       "      <th>4</th>\n",
       "      <td>20.0</td>\n",
       "      <td>0.0</td>\n",
       "      <td>NaN</td>\n",
       "      <td>NaN</td>\n",
       "      <td>NaN</td>\n",
       "      <td>NaN</td>\n",
       "      <td>NaN</td>\n",
       "      <td>between 100,000 and 1 million</td>\n",
       "      <td>NaN</td>\n",
       "      <td>NaN</td>\n",
       "      <td>...</td>\n",
       "      <td>NaN</td>\n",
       "      <td>NaN</td>\n",
       "      <td>NaN</td>\n",
       "      <td>NaN</td>\n",
       "      <td>NaN</td>\n",
       "      <td>NaN</td>\n",
       "      <td>NaN</td>\n",
       "      <td>NaN</td>\n",
       "      <td>NaN</td>\n",
       "      <td>NaN</td>\n",
       "    </tr>\n",
       "  </tbody>\n",
       "</table>\n",
       "<p>5 rows × 136 columns</p>\n",
       "</div>"
      ],
      "text/plain": [
       "    Age  AttendedBootcamp  BootcampFinish  BootcampLoanYesNo BootcampName  \\\n",
       "0  27.0               0.0             NaN                NaN          NaN   \n",
       "1  34.0               0.0             NaN                NaN          NaN   \n",
       "2  21.0               0.0             NaN                NaN          NaN   \n",
       "3  26.0               0.0             NaN                NaN          NaN   \n",
       "4  20.0               0.0             NaN                NaN          NaN   \n",
       "\n",
       "   BootcampRecommend  ChildrenNumber                 CityPopulation  \\\n",
       "0                NaN             NaN            more than 1 million   \n",
       "1                NaN             NaN              less than 100,000   \n",
       "2                NaN             NaN            more than 1 million   \n",
       "3                NaN             NaN  between 100,000 and 1 million   \n",
       "4                NaN             NaN  between 100,000 and 1 million   \n",
       "\n",
       "   CodeEventConferences  CodeEventDjangoGirls         ...           \\\n",
       "0                   NaN                   NaN         ...            \n",
       "1                   NaN                   NaN         ...            \n",
       "2                   NaN                   NaN         ...            \n",
       "3                   NaN                   NaN         ...            \n",
       "4                   NaN                   NaN         ...            \n",
       "\n",
       "   YouTubeFCC  YouTubeFunFunFunction  YouTubeGoogleDev  YouTubeLearnCode  \\\n",
       "0         NaN                    NaN               NaN               NaN   \n",
       "1         1.0                    NaN               NaN               NaN   \n",
       "2         NaN                    NaN               NaN               1.0   \n",
       "3         1.0                    1.0               NaN               NaN   \n",
       "4         NaN                    NaN               NaN               NaN   \n",
       "\n",
       "   YouTubeLevelUpTuts  YouTubeMIT  YouTubeMozillaHacks YouTubeOther  \\\n",
       "0                 NaN         NaN                  NaN          NaN   \n",
       "1                 NaN         NaN                  NaN          NaN   \n",
       "2                 1.0         NaN                  NaN          NaN   \n",
       "3                 1.0         NaN                  NaN          NaN   \n",
       "4                 NaN         NaN                  NaN          NaN   \n",
       "\n",
       "   YouTubeSimplilearn  YouTubeTheNewBoston  \n",
       "0                 NaN                  NaN  \n",
       "1                 NaN                  NaN  \n",
       "2                 NaN                  NaN  \n",
       "3                 NaN                  NaN  \n",
       "4                 NaN                  NaN  \n",
       "\n",
       "[5 rows x 136 columns]"
      ]
     },
     "execution_count": 90,
     "metadata": {},
     "output_type": "execute_result"
    }
   ],
   "source": [
    "import pandas as pd\n",
    "import numpy as np\n",
    "survey = pd.read_csv('2017-fCC-New-Coders-Survey-Data.csv')\n",
    "survey.shape\n",
    "survey.head()"
   ]
  },
  {
   "cell_type": "code",
   "execution_count": 134,
   "metadata": {
    "collapsed": false
   },
   "outputs": [
    {
     "data": {
      "text/plain": [
       "61          JobInterestMobile\n",
       "62           JobInterestOther\n",
       "63        JobInterestProjMngr\n",
       "64          JobInterestQAEngr\n",
       "65              JobInterestUX\n",
       "66                    JobPref\n",
       "67           JobRelocateYesNo\n",
       "68            JobRoleInterest\n",
       "69               JobWherePref\n",
       "70             LanguageAtHome\n",
       "71              MaritalStatus\n",
       "72           MoneyForLearning\n",
       "73          MonthsProgramming\n",
       "74                  NetworkID\n",
       "75               Part1EndTime\n",
       "76             Part1StartTime\n",
       "77               Part2EndTime\n",
       "78             Part2StartTime\n",
       "79           PodcastChangeLog\n",
       "80          PodcastCodeNewbie\n",
       "81             PodcastCodePen\n",
       "82              PodcastDevTea\n",
       "83              PodcastDotNET\n",
       "84         PodcastGiantRobots\n",
       "85               PodcastJSAir\n",
       "86            PodcastJSJabber\n",
       "87                PodcastNone\n",
       "88               PodcastOther\n",
       "89       PodcastProgThrowdown\n",
       "90          PodcastRubyRogues\n",
       "                ...          \n",
       "106               ResourceMDN\n",
       "107          ResourceOdinProj\n",
       "108             ResourceOther\n",
       "109       ResourcePluralSight\n",
       "110        ResourceSkillcrush\n",
       "111                ResourceSO\n",
       "112         ResourceTreehouse\n",
       "113           ResourceUdacity\n",
       "114             ResourceUdemy\n",
       "115               ResourceW3S\n",
       "116              SchoolDegree\n",
       "117               SchoolMajor\n",
       "118            StudentDebtOwe\n",
       "119         YouTubeCodeCourse\n",
       "120        YouTubeCodingTrain\n",
       "121       YouTubeCodingTut360\n",
       "122      YouTubeComputerphile\n",
       "123         YouTubeDerekBanas\n",
       "124            YouTubeDevTips\n",
       "125    YouTubeEngineeredTruth\n",
       "126                YouTubeFCC\n",
       "127     YouTubeFunFunFunction\n",
       "128          YouTubeGoogleDev\n",
       "129          YouTubeLearnCode\n",
       "130        YouTubeLevelUpTuts\n",
       "131                YouTubeMIT\n",
       "132       YouTubeMozillaHacks\n",
       "133              YouTubeOther\n",
       "134        YouTubeSimplilearn\n",
       "135       YouTubeTheNewBoston\n",
       "Length: 75, dtype: object"
      ]
     },
     "execution_count": 134,
     "metadata": {},
     "output_type": "execute_result"
    }
   ],
   "source": [
    "pd.Series(survey.columns)[61:]"
   ]
  },
  {
   "cell_type": "markdown",
   "metadata": {},
   "source": [
    "To ensure a robust analysis, I'll need to know more about the population of new coders interested in the product I'm looking to sell. That is, where do these folks live? What locations do they most densely populate? How much do they spend on e-learning?\n",
    "\n",
    "It will help to first break out what jobs these folks are interested in. To do so, I'll hone in on the 'JobRoleInterest' column. This will give me insight into what sort of courses new coders will be most likely to take on. "
   ]
  },
  {
   "cell_type": "code",
   "execution_count": 92,
   "metadata": {
    "collapsed": false
   },
   "outputs": [
    {
     "data": {
      "text/plain": [
       "(6992,)"
      ]
     },
     "execution_count": 92,
     "metadata": {},
     "output_type": "execute_result"
    }
   ],
   "source": [
    "survey['JobRoleInterest'][:5]\n",
    "survey['JobRoleInterest'].isna().value_counts()\n",
    "no_nulls = survey['JobRoleInterest'].dropna()\n",
    "no_nulls.shape"
   ]
  },
  {
   "cell_type": "code",
   "execution_count": 93,
   "metadata": {
    "collapsed": false
   },
   "outputs": [
    {
     "data": {
      "text/plain": [
       "Full-Stack Web Developer                                                                                                                                                                      0.117706\n",
       "  Front-End Web Developer                                                                                                                                                                     0.064359\n",
       "  Data Scientist                                                                                                                                                                              0.021739\n",
       "Back-End Web Developer                                                                                                                                                                        0.020309\n",
       "  Mobile Developer                                                                                                                                                                            0.016733\n",
       "Game Developer                                                                                                                                                                                0.016304\n",
       "Information Security                                                                                                                                                                          0.013158\n",
       "Full-Stack Web Developer,   Front-End Web Developer                                                                                                                                           0.009153\n",
       "  Front-End Web Developer, Full-Stack Web Developer                                                                                                                                           0.008009\n",
       "  Product Manager                                                                                                                                                                             0.007866\n",
       "Data Engineer                                                                                                                                                                                 0.007580\n",
       "  User Experience Designer                                                                                                                                                                    0.007437\n",
       "  User Experience Designer,   Front-End Web Developer                                                                                                                                         0.006150\n",
       "  Front-End Web Developer, Back-End Web Developer, Full-Stack Web Developer                                                                                                                   0.005578\n",
       "  DevOps / SysAdmin                                                                                                                                                                           0.005149\n",
       "Back-End Web Developer,   Front-End Web Developer, Full-Stack Web Developer                                                                                                                   0.005149\n",
       "Back-End Web Developer, Full-Stack Web Developer,   Front-End Web Developer                                                                                                                   0.005149\n",
       "Full-Stack Web Developer,   Front-End Web Developer, Back-End Web Developer                                                                                                                   0.004434\n",
       "  Front-End Web Developer, Full-Stack Web Developer, Back-End Web Developer                                                                                                                   0.004291\n",
       "  Front-End Web Developer,   User Experience Designer                                                                                                                                         0.004148\n",
       "Full-Stack Web Developer,   Mobile Developer                                                                                                                                                  0.004148\n",
       "Back-End Web Developer, Full-Stack Web Developer                                                                                                                                              0.003862\n",
       "Full-Stack Web Developer, Back-End Web Developer                                                                                                                                              0.003719\n",
       "Back-End Web Developer,   Front-End Web Developer                                                                                                                                             0.002860\n",
       "Data Engineer,   Data Scientist                                                                                                                                                               0.002717\n",
       "Full-Stack Web Developer, Back-End Web Developer,   Front-End Web Developer                                                                                                                   0.002717\n",
       "  Front-End Web Developer,   Mobile Developer                                                                                                                                                 0.002574\n",
       "Full-Stack Web Developer,   Data Scientist                                                                                                                                                    0.002431\n",
       "  Mobile Developer, Game Developer                                                                                                                                                            0.002288\n",
       "  Data Scientist, Data Engineer                                                                                                                                                               0.002288\n",
       "                                                                                                                                                                                                ...   \n",
       "  User Experience Designer, Full-Stack Web Developer, Back-End Web Developer,   Product Manager, Information Security,   Quality Assurance Engineer                                           0.000143\n",
       "Information Security,   DevOps / SysAdmin, Game Developer                                                                                                                                     0.000143\n",
       "Information Security,   Mobile Developer,   Front-End Web Developer,   User Experience Designer, Full-Stack Web Developer                                                                     0.000143\n",
       "Back-End Web Developer, Data Engineer,   Quality Assurance Engineer                                                                                                                           0.000143\n",
       "  Data Scientist,   Quality Assurance Engineer, Information Security, Full-Stack Web Developer,   DevOps / SysAdmin                                                                           0.000143\n",
       "Full-Stack Web Developer,   DevOps / SysAdmin,   Mobile Developer, Back-End Web Developer,   Quality Assurance Engineer                                                                       0.000143\n",
       "  User Experience Designer,   Front-End Web Developer,   Mobile Developer, Game Developer, Full-Stack Web Developer                                                                           0.000143\n",
       "  Product Manager, Information Security,   Data Scientist                                                                                                                                     0.000143\n",
       "Information Security,   Data Scientist,   Quality Assurance Engineer, Data Engineer                                                                                                           0.000143\n",
       "  Front-End Web Developer, Full-Stack Web Developer,   User Experience Designer,   Mobile Developer                                                                                           0.000143\n",
       "  Product Manager,   Mobile Developer, Game Developer, Back-End Web Developer                                                                                                                 0.000143\n",
       "Data Engineer,   Data Scientist,   Front-End Web Developer,   Product Manager                                                                                                                 0.000143\n",
       "Data Engineer,   Data Scientist,   Product Manager, Back-End Web Developer,   Quality Assurance Engineer                                                                                      0.000143\n",
       "Full-Stack Web Developer,   Mobile Developer, Information Security, Game Developer                                                                                                            0.000143\n",
       "Back-End Web Developer,   User Experience Designer, Information Security,   Quality Assurance Engineer,   DevOps / SysAdmin, Game Developer,   Mobile Developer,   Front-End Web Developer    0.000143\n",
       "Back-End Web Developer,   Product Manager,   Mobile Developer, Data Engineer,   Front-End Web Developer, Game Developer, Full-Stack Web Developer                                             0.000143\n",
       "  Mobile Developer,   User Experience Designer, Back-End Web Developer,   Front-End Web Developer, Full-Stack Web Developer                                                                   0.000143\n",
       "  Quality Assurance Engineer,   DevOps / SysAdmin,   Front-End Web Developer, Data Engineer, Back-End Web Developer                                                                           0.000143\n",
       "Information Security, Full-Stack Web Developer, Data Engineer, Back-End Web Developer,   Data Scientist                                                                                       0.000143\n",
       "Full-Stack Web Developer, Back-End Web Developer,   User Experience Designer,   Data Scientist,   DevOps / SysAdmin,   Front-End Web Developer                                                0.000143\n",
       "Information Security, Data Engineer,   Data Scientist,   Quality Assurance Engineer                                                                                                           0.000143\n",
       "Information Security,   Mobile Developer, Game Developer, Full-Stack Web Developer, Back-End Web Developer,   Data Scientist                                                                  0.000143\n",
       "Full-Stack Web Developer,   Front-End Web Developer,   Mobile Developer,   DevOps / SysAdmin                                                                                                  0.000143\n",
       "  Mobile Developer,   DevOps / SysAdmin, Back-End Web Developer, Data Engineer                                                                                                                0.000143\n",
       "Not sure!                                                                                                                                                                                     0.000143\n",
       "Game Developer,   DevOps / SysAdmin,   Mobile Developer, Back-End Web Developer,   Front-End Web Developer, Information Security, Full-Stack Web Developer                                    0.000143\n",
       "  Front-End Web Developer, Full-Stack Web Developer,   DevOps / SysAdmin, Information Security, Back-End Web Developer, Game Developer,   Mobile Developer                                    0.000143\n",
       "Full-Stack Web Developer,   Product Manager,   Mobile Developer, Back-End Web Developer,   User Experience Designer                                                                           0.000143\n",
       "Back-End Web Developer,   DevOps / SysAdmin,   Front-End Web Developer, Full-Stack Web Developer,   Mobile Developer                                                                          0.000143\n",
       "  DevOps / SysAdmin, Information Security,   User Experience Designer,   Mobile Developer, Data Engineer, Full-Stack Web Developer,   Front-End Web Developer, Back-End Web Developer         0.000143\n",
       "Name: JobRoleInterest, Length: 3213, dtype: float64"
      ]
     },
     "execution_count": 93,
     "metadata": {},
     "output_type": "execute_result"
    }
   ],
   "source": [
    "survey['JobRoleInterest'].value_counts(normalize=True)"
   ]
  },
  {
   "cell_type": "code",
   "execution_count": 94,
   "metadata": {
    "collapsed": false
   },
   "outputs": [
    {
     "data": {
      "text/plain": [
       "(0, 12)"
      ]
     },
     "execution_count": 94,
     "metadata": {},
     "output_type": "execute_result"
    },
    {
     "data": {
      "image/png": "[encoded data removed]",
      "text/plain": [
       "<matplotlib.figure.Figure at 0x7f83ec6bfe48>"
      ]
     },
     "metadata": {},
     "output_type": "display_data"
    }
   ],
   "source": [
    "import matplotlib.pyplot as plt\n",
    "%matplotlib inline\n",
    "table = survey['JobRoleInterest'].dropna().value_counts(normalize=True)*100\n",
    "fig = plt.figure()\n",
    "ax = fig.add_subplot(111)\n",
    "ax.hist(table)\n",
    "ax.set_xlim(0,12)\n",
    "#ax.set_ylim(0,100)\n",
    "#ax.set_xticks(ticks=np.arange(0,12,.5))"
   ]
  },
  {
   "cell_type": "markdown",
   "metadata": {},
   "source": [
    "It appears a majority of our columns contain more than one response. Let's filter our distribution to include multiple response columns."
   ]
  },
  {
   "cell_type": "code",
   "execution_count": 95,
   "metadata": {
    "collapsed": false
   },
   "outputs": [
    {
     "data": {
      "text/plain": [
       "(0, 2)"
      ]
     },
     "execution_count": 95,
     "metadata": {},
     "output_type": "execute_result"
    },
    {
     "data": {
      "image/png": "[encoded data removed]",
      "text/plain": [
       "<matplotlib.figure.Figure at 0x7f83e378a4e0>"
      ]
     },
     "metadata": {},
     "output_type": "display_data"
    }
   ],
   "source": [
    "multi = []\n",
    "\n",
    "for object in survey['JobRoleInterest']:\n",
    "    object = str(object)\n",
    "    if object.find(',') != -1 & object.find('nan') == -1:\n",
    "        multi.append(object)\n",
    "\n",
    "multi_interest = pd.Series(multi)\n",
    "multi_table = multi_interest.value_counts(normalize=True)*100\n",
    "fig = plt.figure()\n",
    "ax = fig.add_subplot(111)\n",
    "ax.hist(single_table)\n",
    "ax.set_xlim(0,2)"
   ]
  },
  {
   "cell_type": "markdown",
   "metadata": {},
   "source": [
    "Our new plot doesn't vary much from our first one, meaning most people have multiple career aspirations. This doesn't make for easy analysis if we want to truly determine which careers are most attractive to the most people. \n",
    "\n",
    "In order to simplify our analysis, let's assume the courses offered by this e-learning company are in web and mobile development, so we can narrow down are population of interest to folks interested in at least one of these subjects. To do so, I can filter my Interest column to rows that contain the word 'developer'. That will tell me who is interested in any sort of development."
   ]
  },
  {
   "cell_type": "code",
   "execution_count": 96,
   "metadata": {
    "collapsed": false
   },
   "outputs": [
    {
     "data": {
      "text/plain": [
       "6225"
      ]
     },
     "execution_count": 96,
     "metadata": {},
     "output_type": "execute_result"
    }
   ],
   "source": [
    "developers = []\n",
    "\n",
    "for object in survey['JobRoleInterest']:\n",
    "    object = str(object)\n",
    "    if \"Developer\" in object:\n",
    "        developers.append(object)\n",
    "        \n",
    "developers = pd.Series(developers)\n",
    "developers.count()\n",
    "        "
   ]
  },
  {
   "cell_type": "markdown",
   "metadata": {},
   "source": [
    "It appears a majority of respondents (89%) are interested in web or mobile development!"
   ]
  },
  {
   "cell_type": "markdown",
   "metadata": {},
   "source": [
    "Let's now figure out where our respondents live and how densely they populate each nation. We'll look at the CountryLive variable, and ensure that we exclude rows that didn't receive a response."
   ]
  },
  {
   "cell_type": "code",
   "execution_count": 97,
   "metadata": {
    "collapsed": false
   },
   "outputs": [
    {
     "data": {
      "text/plain": [
       "United States of America         312500\n",
       "India                             52800\n",
       "United Kingdom                    31500\n",
       "Canada                            26000\n",
       "Poland                            13100\n",
       "Brazil                            12900\n",
       "Germany                           12500\n",
       "Australia                         11200\n",
       "Russia                            10200\n",
       "Ukraine                            8900\n",
       "Nigeria                            8400\n",
       "Spain                              7700\n",
       "France                             7500\n",
       "Romania                            7100\n",
       "Netherlands (Holland, Europe)      6500\n",
       "Italy                              6200\n",
       "Serbia                             5200\n",
       "Philippines                        5200\n",
       "Greece                             4600\n",
       "Ireland                            4300\n",
       "South Africa                       3900\n",
       "Mexico                             3700\n",
       "Turkey                             3600\n",
       "Singapore                          3400\n",
       "Hungary                            3400\n",
       "New Zealand                        3300\n",
       "Croatia                            3200\n",
       "Argentina                          3200\n",
       "Norway                             3100\n",
       "Indonesia                          3100\n",
       "                                  ...  \n",
       "Nambia                              100\n",
       "Sudan                               100\n",
       "Mozambique                          100\n",
       "Cayman Islands                      100\n",
       "Cuba                                100\n",
       "Guatemala                           100\n",
       "Cameroon                            100\n",
       "Rwanda                              100\n",
       "Nicaragua                           100\n",
       "Yemen                               100\n",
       "Papua New Guinea                    100\n",
       "Gibraltar                           100\n",
       "Kyrgyzstan                          100\n",
       "Channel Islands                     100\n",
       "Jordan                              100\n",
       "Gambia                              100\n",
       "Aruba                               100\n",
       "Angola                              100\n",
       "Somalia                             100\n",
       "Vanuatu                             100\n",
       "Bolivia                             100\n",
       "Guadeloupe                          100\n",
       "Anguilla                            100\n",
       "Panama                              100\n",
       "Samoa                               100\n",
       "Qatar                               100\n",
       "Botswana                            100\n",
       "Liberia                             100\n",
       "Turkmenistan                        100\n",
       "Trinidad & Tobago                   100\n",
       "Name: CountryLive, Length: 137, dtype: int64"
      ]
     },
     "execution_count": 97,
     "metadata": {},
     "output_type": "execute_result"
    }
   ],
   "source": [
    "clean_survey = survey[survey['JobRoleInterest'].notnull()]\n",
    "clean_survey['CountryLive'].value_counts()*100"
   ]
  },
  {
   "cell_type": "markdown",
   "metadata": {},
   "source": [
    "Our respondents are overwhelmingly located in the United States, followed not so closely by India, the UK, and Canada. This makes sense as English is an official language in all of these countries, and this survey was written in English. While it may make the most sense to target our top two countries, we could also attempt to guage the likelihood of a particular country to respond to our ads. This could require looking at the hours a group spends learning, their employment status, whether they've already been to coding events, or how much they're willing to spend. For this analysis, let's focus on that last characteristic in our top four countries, as it most likely to predict profitability. "
   ]
  },
  {
   "cell_type": "code",
   "execution_count": 98,
   "metadata": {
    "collapsed": false
   },
   "outputs": [
    {
     "name": "stderr",
     "output_type": "stream",
     "text": [
      "/dataquest/system/env/python3/lib/python3.4/site-packages/pandas/core/generic.py:4619: SettingWithCopyWarning: \n",
      "A value is trying to be set on a copy of a slice from a DataFrame\n",
      "\n",
      "See the caveats in the documentation: http://pandas.pydata.org/pandas-docs/stable/indexing.html#indexing-view-versus-copy\n",
      "  self._update_inplace(new_data)\n",
      "/dataquest/system/env/python3/lib/python3.4/site-packages/ipykernel/__main__.py:5: SettingWithCopyWarning: \n",
      "A value is trying to be set on a copy of a slice from a DataFrame.\n",
      "Try using .loc[row_indexer,col_indexer] = value instead\n",
      "\n",
      "See the caveats in the documentation: http://pandas.pydata.org/pandas-docs/stable/indexing.html#indexing-view-versus-copy\n"
     ]
    },
    {
     "data": {
      "text/html": [
       "<div>\n",
       "<style scoped>\n",
       "    .dataframe tbody tr th:only-of-type {\n",
       "        vertical-align: middle;\n",
       "    }\n",
       "\n",
       "    .dataframe tbody tr th {\n",
       "        vertical-align: top;\n",
       "    }\n",
       "\n",
       "    .dataframe thead th {\n",
       "        text-align: right;\n",
       "    }\n",
       "</style>\n",
       "<table border=\"1\" class=\"dataframe\">\n",
       "  <thead>\n",
       "    <tr style=\"text-align: right;\">\n",
       "      <th></th>\n",
       "      <th>MoneyForLearning</th>\n",
       "      <th>MonthsProgramming</th>\n",
       "      <th>Money Spent Per Month</th>\n",
       "    </tr>\n",
       "  </thead>\n",
       "  <tbody>\n",
       "    <tr>\n",
       "      <th>1</th>\n",
       "      <td>80.0</td>\n",
       "      <td>6.0</td>\n",
       "      <td>13.333333</td>\n",
       "    </tr>\n",
       "    <tr>\n",
       "      <th>2</th>\n",
       "      <td>1000.0</td>\n",
       "      <td>5.0</td>\n",
       "      <td>200.000000</td>\n",
       "    </tr>\n",
       "    <tr>\n",
       "      <th>3</th>\n",
       "      <td>0.0</td>\n",
       "      <td>5.0</td>\n",
       "      <td>0.000000</td>\n",
       "    </tr>\n",
       "    <tr>\n",
       "      <th>4</th>\n",
       "      <td>0.0</td>\n",
       "      <td>24.0</td>\n",
       "      <td>0.000000</td>\n",
       "    </tr>\n",
       "    <tr>\n",
       "      <th>6</th>\n",
       "      <td>0.0</td>\n",
       "      <td>12.0</td>\n",
       "      <td>0.000000</td>\n",
       "    </tr>\n",
       "    <tr>\n",
       "      <th>9</th>\n",
       "      <td>100.0</td>\n",
       "      <td>18.0</td>\n",
       "      <td>5.555556</td>\n",
       "    </tr>\n",
       "    <tr>\n",
       "      <th>11</th>\n",
       "      <td>0.0</td>\n",
       "      <td>1.0</td>\n",
       "      <td>0.000000</td>\n",
       "    </tr>\n",
       "    <tr>\n",
       "      <th>13</th>\n",
       "      <td>NaN</td>\n",
       "      <td>NaN</td>\n",
       "      <td>NaN</td>\n",
       "    </tr>\n",
       "    <tr>\n",
       "      <th>14</th>\n",
       "      <td>NaN</td>\n",
       "      <td>9.0</td>\n",
       "      <td>NaN</td>\n",
       "    </tr>\n",
       "    <tr>\n",
       "      <th>15</th>\n",
       "      <td>0.0</td>\n",
       "      <td>1.0</td>\n",
       "      <td>0.000000</td>\n",
       "    </tr>\n",
       "    <tr>\n",
       "      <th>16</th>\n",
       "      <td>200.0</td>\n",
       "      <td>12.0</td>\n",
       "      <td>16.666667</td>\n",
       "    </tr>\n",
       "    <tr>\n",
       "      <th>18</th>\n",
       "      <td>500.0</td>\n",
       "      <td>14.0</td>\n",
       "      <td>35.714286</td>\n",
       "    </tr>\n",
       "    <tr>\n",
       "      <th>19</th>\n",
       "      <td>500.0</td>\n",
       "      <td>28.0</td>\n",
       "      <td>17.857143</td>\n",
       "    </tr>\n",
       "    <tr>\n",
       "      <th>21</th>\n",
       "      <td>300.0</td>\n",
       "      <td>3.0</td>\n",
       "      <td>100.000000</td>\n",
       "    </tr>\n",
       "    <tr>\n",
       "      <th>22</th>\n",
       "      <td>4000.0</td>\n",
       "      <td>14.0</td>\n",
       "      <td>285.714286</td>\n",
       "    </tr>\n",
       "    <tr>\n",
       "      <th>23</th>\n",
       "      <td>200.0</td>\n",
       "      <td>2.0</td>\n",
       "      <td>100.000000</td>\n",
       "    </tr>\n",
       "    <tr>\n",
       "      <th>28</th>\n",
       "      <td>29.0</td>\n",
       "      <td>12.0</td>\n",
       "      <td>2.416667</td>\n",
       "    </tr>\n",
       "    <tr>\n",
       "      <th>29</th>\n",
       "      <td>300.0</td>\n",
       "      <td>NaN</td>\n",
       "      <td>NaN</td>\n",
       "    </tr>\n",
       "    <tr>\n",
       "      <th>30</th>\n",
       "      <td>200.0</td>\n",
       "      <td>3.0</td>\n",
       "      <td>66.666667</td>\n",
       "    </tr>\n",
       "    <tr>\n",
       "      <th>31</th>\n",
       "      <td>0.0</td>\n",
       "      <td>1.0</td>\n",
       "      <td>0.000000</td>\n",
       "    </tr>\n",
       "    <tr>\n",
       "      <th>32</th>\n",
       "      <td>600.0</td>\n",
       "      <td>6.0</td>\n",
       "      <td>100.000000</td>\n",
       "    </tr>\n",
       "    <tr>\n",
       "      <th>33</th>\n",
       "      <td>500.0</td>\n",
       "      <td>6.0</td>\n",
       "      <td>83.333333</td>\n",
       "    </tr>\n",
       "    <tr>\n",
       "      <th>34</th>\n",
       "      <td>NaN</td>\n",
       "      <td>NaN</td>\n",
       "      <td>NaN</td>\n",
       "    </tr>\n",
       "    <tr>\n",
       "      <th>35</th>\n",
       "      <td>0.0</td>\n",
       "      <td>25.0</td>\n",
       "      <td>0.000000</td>\n",
       "    </tr>\n",
       "    <tr>\n",
       "      <th>37</th>\n",
       "      <td>NaN</td>\n",
       "      <td>NaN</td>\n",
       "      <td>NaN</td>\n",
       "    </tr>\n",
       "    <tr>\n",
       "      <th>40</th>\n",
       "      <td>200.0</td>\n",
       "      <td>8.0</td>\n",
       "      <td>25.000000</td>\n",
       "    </tr>\n",
       "    <tr>\n",
       "      <th>41</th>\n",
       "      <td>0.0</td>\n",
       "      <td>32.0</td>\n",
       "      <td>0.000000</td>\n",
       "    </tr>\n",
       "    <tr>\n",
       "      <th>42</th>\n",
       "      <td>100.0</td>\n",
       "      <td>2.0</td>\n",
       "      <td>50.000000</td>\n",
       "    </tr>\n",
       "    <tr>\n",
       "      <th>43</th>\n",
       "      <td>0.0</td>\n",
       "      <td>5.0</td>\n",
       "      <td>0.000000</td>\n",
       "    </tr>\n",
       "    <tr>\n",
       "      <th>52</th>\n",
       "      <td>0.0</td>\n",
       "      <td>12.0</td>\n",
       "      <td>0.000000</td>\n",
       "    </tr>\n",
       "    <tr>\n",
       "      <th>...</th>\n",
       "      <td>...</td>\n",
       "      <td>...</td>\n",
       "      <td>...</td>\n",
       "    </tr>\n",
       "    <tr>\n",
       "      <th>18080</th>\n",
       "      <td>50.0</td>\n",
       "      <td>2.0</td>\n",
       "      <td>25.000000</td>\n",
       "    </tr>\n",
       "    <tr>\n",
       "      <th>18081</th>\n",
       "      <td>NaN</td>\n",
       "      <td>12.0</td>\n",
       "      <td>NaN</td>\n",
       "    </tr>\n",
       "    <tr>\n",
       "      <th>18088</th>\n",
       "      <td>364.0</td>\n",
       "      <td>2.0</td>\n",
       "      <td>182.000000</td>\n",
       "    </tr>\n",
       "    <tr>\n",
       "      <th>18089</th>\n",
       "      <td>0.0</td>\n",
       "      <td>2.0</td>\n",
       "      <td>0.000000</td>\n",
       "    </tr>\n",
       "    <tr>\n",
       "      <th>18090</th>\n",
       "      <td>0.0</td>\n",
       "      <td>1.0</td>\n",
       "      <td>0.000000</td>\n",
       "    </tr>\n",
       "    <tr>\n",
       "      <th>18093</th>\n",
       "      <td>1000.0</td>\n",
       "      <td>36.0</td>\n",
       "      <td>27.777778</td>\n",
       "    </tr>\n",
       "    <tr>\n",
       "      <th>18097</th>\n",
       "      <td>0.0</td>\n",
       "      <td>1.0</td>\n",
       "      <td>0.000000</td>\n",
       "    </tr>\n",
       "    <tr>\n",
       "      <th>18098</th>\n",
       "      <td>22.0</td>\n",
       "      <td>18.0</td>\n",
       "      <td>1.222222</td>\n",
       "    </tr>\n",
       "    <tr>\n",
       "      <th>18099</th>\n",
       "      <td>1000.0</td>\n",
       "      <td>1.0</td>\n",
       "      <td>1000.000000</td>\n",
       "    </tr>\n",
       "    <tr>\n",
       "      <th>18107</th>\n",
       "      <td>550.0</td>\n",
       "      <td>2.0</td>\n",
       "      <td>275.000000</td>\n",
       "    </tr>\n",
       "    <tr>\n",
       "      <th>18111</th>\n",
       "      <td>1000.0</td>\n",
       "      <td>5.0</td>\n",
       "      <td>200.000000</td>\n",
       "    </tr>\n",
       "    <tr>\n",
       "      <th>18112</th>\n",
       "      <td>0.0</td>\n",
       "      <td>24.0</td>\n",
       "      <td>0.000000</td>\n",
       "    </tr>\n",
       "    <tr>\n",
       "      <th>18113</th>\n",
       "      <td>0.0</td>\n",
       "      <td>1.0</td>\n",
       "      <td>0.000000</td>\n",
       "    </tr>\n",
       "    <tr>\n",
       "      <th>18118</th>\n",
       "      <td>0.0</td>\n",
       "      <td>13.0</td>\n",
       "      <td>0.000000</td>\n",
       "    </tr>\n",
       "    <tr>\n",
       "      <th>18125</th>\n",
       "      <td>200.0</td>\n",
       "      <td>7.0</td>\n",
       "      <td>28.571429</td>\n",
       "    </tr>\n",
       "    <tr>\n",
       "      <th>18129</th>\n",
       "      <td>0.0</td>\n",
       "      <td>NaN</td>\n",
       "      <td>NaN</td>\n",
       "    </tr>\n",
       "    <tr>\n",
       "      <th>18130</th>\n",
       "      <td>0.0</td>\n",
       "      <td>8.0</td>\n",
       "      <td>0.000000</td>\n",
       "    </tr>\n",
       "    <tr>\n",
       "      <th>18131</th>\n",
       "      <td>100.0</td>\n",
       "      <td>6.0</td>\n",
       "      <td>16.666667</td>\n",
       "    </tr>\n",
       "    <tr>\n",
       "      <th>18151</th>\n",
       "      <td>0.0</td>\n",
       "      <td>22.0</td>\n",
       "      <td>0.000000</td>\n",
       "    </tr>\n",
       "    <tr>\n",
       "      <th>18153</th>\n",
       "      <td>0.0</td>\n",
       "      <td>12.0</td>\n",
       "      <td>0.000000</td>\n",
       "    </tr>\n",
       "    <tr>\n",
       "      <th>18154</th>\n",
       "      <td>297.0</td>\n",
       "      <td>1.0</td>\n",
       "      <td>297.000000</td>\n",
       "    </tr>\n",
       "    <tr>\n",
       "      <th>18155</th>\n",
       "      <td>0.0</td>\n",
       "      <td>3.0</td>\n",
       "      <td>0.000000</td>\n",
       "    </tr>\n",
       "    <tr>\n",
       "      <th>18156</th>\n",
       "      <td>1000.0</td>\n",
       "      <td>1.0</td>\n",
       "      <td>1000.000000</td>\n",
       "    </tr>\n",
       "    <tr>\n",
       "      <th>18157</th>\n",
       "      <td>0.0</td>\n",
       "      <td>1.0</td>\n",
       "      <td>0.000000</td>\n",
       "    </tr>\n",
       "    <tr>\n",
       "      <th>18160</th>\n",
       "      <td>100.0</td>\n",
       "      <td>3.0</td>\n",
       "      <td>33.333333</td>\n",
       "    </tr>\n",
       "    <tr>\n",
       "      <th>18161</th>\n",
       "      <td>0.0</td>\n",
       "      <td>6.0</td>\n",
       "      <td>0.000000</td>\n",
       "    </tr>\n",
       "    <tr>\n",
       "      <th>18162</th>\n",
       "      <td>0.0</td>\n",
       "      <td>84.0</td>\n",
       "      <td>0.000000</td>\n",
       "    </tr>\n",
       "    <tr>\n",
       "      <th>18163</th>\n",
       "      <td>0.0</td>\n",
       "      <td>NaN</td>\n",
       "      <td>NaN</td>\n",
       "    </tr>\n",
       "    <tr>\n",
       "      <th>18171</th>\n",
       "      <td>10000.0</td>\n",
       "      <td>1.0</td>\n",
       "      <td>10000.000000</td>\n",
       "    </tr>\n",
       "    <tr>\n",
       "      <th>18174</th>\n",
       "      <td>NaN</td>\n",
       "      <td>10.0</td>\n",
       "      <td>NaN</td>\n",
       "    </tr>\n",
       "  </tbody>\n",
       "</table>\n",
       "<p>6992 rows × 3 columns</p>\n",
       "</div>"
      ],
      "text/plain": [
       "       MoneyForLearning  MonthsProgramming  Money Spent Per Month\n",
       "1                  80.0                6.0              13.333333\n",
       "2                1000.0                5.0             200.000000\n",
       "3                   0.0                5.0               0.000000\n",
       "4                   0.0               24.0               0.000000\n",
       "6                   0.0               12.0               0.000000\n",
       "9                 100.0               18.0               5.555556\n",
       "11                  0.0                1.0               0.000000\n",
       "13                  NaN                NaN                    NaN\n",
       "14                  NaN                9.0                    NaN\n",
       "15                  0.0                1.0               0.000000\n",
       "16                200.0               12.0              16.666667\n",
       "18                500.0               14.0              35.714286\n",
       "19                500.0               28.0              17.857143\n",
       "21                300.0                3.0             100.000000\n",
       "22               4000.0               14.0             285.714286\n",
       "23                200.0                2.0             100.000000\n",
       "28                 29.0               12.0               2.416667\n",
       "29                300.0                NaN                    NaN\n",
       "30                200.0                3.0              66.666667\n",
       "31                  0.0                1.0               0.000000\n",
       "32                600.0                6.0             100.000000\n",
       "33                500.0                6.0              83.333333\n",
       "34                  NaN                NaN                    NaN\n",
       "35                  0.0               25.0               0.000000\n",
       "37                  NaN                NaN                    NaN\n",
       "40                200.0                8.0              25.000000\n",
       "41                  0.0               32.0               0.000000\n",
       "42                100.0                2.0              50.000000\n",
       "43                  0.0                5.0               0.000000\n",
       "52                  0.0               12.0               0.000000\n",
       "...                 ...                ...                    ...\n",
       "18080              50.0                2.0              25.000000\n",
       "18081               NaN               12.0                    NaN\n",
       "18088             364.0                2.0             182.000000\n",
       "18089               0.0                2.0               0.000000\n",
       "18090               0.0                1.0               0.000000\n",
       "18093            1000.0               36.0              27.777778\n",
       "18097               0.0                1.0               0.000000\n",
       "18098              22.0               18.0               1.222222\n",
       "18099            1000.0                1.0            1000.000000\n",
       "18107             550.0                2.0             275.000000\n",
       "18111            1000.0                5.0             200.000000\n",
       "18112               0.0               24.0               0.000000\n",
       "18113               0.0                1.0               0.000000\n",
       "18118               0.0               13.0               0.000000\n",
       "18125             200.0                7.0              28.571429\n",
       "18129               0.0                NaN                    NaN\n",
       "18130               0.0                8.0               0.000000\n",
       "18131             100.0                6.0              16.666667\n",
       "18151               0.0               22.0               0.000000\n",
       "18153               0.0               12.0               0.000000\n",
       "18154             297.0                1.0             297.000000\n",
       "18155               0.0                3.0               0.000000\n",
       "18156            1000.0                1.0            1000.000000\n",
       "18157               0.0                1.0               0.000000\n",
       "18160             100.0                3.0              33.333333\n",
       "18161               0.0                6.0               0.000000\n",
       "18162               0.0               84.0               0.000000\n",
       "18163               0.0                NaN                    NaN\n",
       "18171           10000.0                1.0           10000.000000\n",
       "18174               NaN               10.0                    NaN\n",
       "\n",
       "[6992 rows x 3 columns]"
      ]
     },
     "execution_count": 98,
     "metadata": {},
     "output_type": "execute_result"
    }
   ],
   "source": [
    "#I'll start by creating a new column that describes how much money students spend\n",
    "#per month in our target countries.\n",
    "\n",
    "clean_survey['MonthsProgramming'].replace(0,1,inplace=True) #To avoid dividing by 0\n",
    "clean_survey['Money Spent Per Month'] = clean_survey['MoneyForLearning'] / clean_survey['MonthsProgramming']\n",
    "clean_survey[['MoneyForLearning','MonthsProgramming','Money Spent Per Month']]\n"
   ]
  },
  {
   "cell_type": "code",
   "execution_count": 99,
   "metadata": {
    "collapsed": false,
    "scrolled": true
   },
   "outputs": [
    {
     "name": "stderr",
     "output_type": "stream",
     "text": [
      "/dataquest/system/env/python3/lib/python3.4/site-packages/ipykernel/__main__.py:2: SettingWithCopyWarning: \n",
      "A value is trying to be set on a copy of a slice from a DataFrame.\n",
      "Try using .loc[row_indexer,col_indexer] = value instead\n",
      "\n",
      "See the caveats in the documentation: http://pandas.pydata.org/pandas-docs/stable/indexing.html#indexing-view-versus-copy\n",
      "  from ipykernel import kernelapp as app\n",
      "/dataquest/system/env/python3/lib/python3.4/site-packages/ipykernel/__main__.py:3: SettingWithCopyWarning: \n",
      "A value is trying to be set on a copy of a slice from a DataFrame.\n",
      "Try using .loc[row_indexer,col_indexer] = value instead\n",
      "\n",
      "See the caveats in the documentation: http://pandas.pydata.org/pandas-docs/stable/indexing.html#indexing-view-versus-copy\n",
      "  app.launch_new_instance()\n"
     ]
    }
   ],
   "source": [
    "#Dropping all null values for our characteristics of interest.\n",
    "clean_survey['Money Spent Per Month'] = clean_survey['Money Spent Per Month'].dropna()\n",
    "clean_survey['CountryLive'] = clean_survey['CountryLive'].dropna()"
   ]
  },
  {
   "cell_type": "code",
   "execution_count": 103,
   "metadata": {
    "collapsed": false
   },
   "outputs": [
    {
     "data": {
      "text/html": [
       "<div>\n",
       "<style scoped>\n",
       "    .dataframe tbody tr th:only-of-type {\n",
       "        vertical-align: middle;\n",
       "    }\n",
       "\n",
       "    .dataframe tbody tr th {\n",
       "        vertical-align: top;\n",
       "    }\n",
       "\n",
       "    .dataframe thead th {\n",
       "        text-align: right;\n",
       "    }\n",
       "</style>\n",
       "<table border=\"1\" class=\"dataframe\">\n",
       "  <thead>\n",
       "    <tr style=\"text-align: right;\">\n",
       "      <th></th>\n",
       "      <th>Money Spent Per Month</th>\n",
       "    </tr>\n",
       "    <tr>\n",
       "      <th>CountryLive</th>\n",
       "      <th></th>\n",
       "    </tr>\n",
       "  </thead>\n",
       "  <tbody>\n",
       "    <tr>\n",
       "      <th>Canada</th>\n",
       "      <td>113.510961</td>\n",
       "    </tr>\n",
       "    <tr>\n",
       "      <th>India</th>\n",
       "      <td>135.100982</td>\n",
       "    </tr>\n",
       "    <tr>\n",
       "      <th>United Kingdom</th>\n",
       "      <td>45.534443</td>\n",
       "    </tr>\n",
       "    <tr>\n",
       "      <th>United States of America</th>\n",
       "      <td>227.997996</td>\n",
       "    </tr>\n",
       "  </tbody>\n",
       "</table>\n",
       "</div>"
      ],
      "text/plain": [
       "                          Money Spent Per Month\n",
       "CountryLive                                    \n",
       "Canada                               113.510961\n",
       "India                                135.100982\n",
       "United Kingdom                        45.534443\n",
       "United States of America             227.997996"
      ]
     },
     "execution_count": 103,
     "metadata": {},
     "output_type": "execute_result"
    }
   ],
   "source": [
    "top_four = ((clean_survey['CountryLive'] == 'India') \n",
    "            | (clean_survey['CountryLive'] == 'United States of America') \n",
    "            | (clean_survey['CountryLive'] == 'United Kingdom')\n",
    "           | (clean_survey['CountryLive'] == 'Canada'))\n",
    "\n",
    "clean_survey[top_four][['CountryLive','Money Spent Per Month']].groupby('CountryLive').mean()"
   ]
  },
  {
   "cell_type": "markdown",
   "metadata": {
    "collapsed": false
   },
   "source": [
    "It looks like Americans spend the most, although it's unusual that the British are willing to spend less on average than folks in India, which is a lower GDP country. It could be that are sample is not representative, or that there are potential outliers skewing our data. \n",
    "\n",
    "Let's visualize the data to see if we can spot unusual trends."
   ]
  },
  {
   "cell_type": "code",
   "execution_count": 104,
   "metadata": {
    "collapsed": false
   },
   "outputs": [
    {
     "name": "stderr",
     "output_type": "stream",
     "text": [
      "/dataquest/system/env/python3/lib/python3.4/site-packages/seaborn/categorical.py:454: FutureWarning: remove_na is deprecated and is a private function. Do not use.\n",
      "  box_data = remove_na(group_data)\n"
     ]
    },
    {
     "data": {
      "text/plain": [
       "<matplotlib.axes._subplots.AxesSubplot at 0x7f83d79e50b8>"
      ]
     },
     "execution_count": 104,
     "metadata": {},
     "output_type": "execute_result"
    },
    {
     "data": {
      "image/png": "[encoded data removed]",
      "text/plain": [
       "<matplotlib.figure.Figure at 0x7f83ec656eb8>"
      ]
     },
     "metadata": {},
     "output_type": "display_data"
    }
   ],
   "source": [
    "import seaborn as sns\n",
    "sns.boxplot(y = 'Money Spent Per Month', x = 'CountryLive', data=clean_survey[top_four])"
   ]
  },
  {
   "cell_type": "markdown",
   "metadata": {},
   "source": [
    "It appears there are two outliers in our US data, which we can eliminate with a filter, but there appears to be relatively less spread among the other countries. Let's eliminate outliers greater than 20k and see what our plot looks like."
   ]
  },
  {
   "cell_type": "code",
   "execution_count": 107,
   "metadata": {
    "collapsed": false
   },
   "outputs": [],
   "source": [
    "no_outliers = clean_survey['Money Spent Per Month'] < 20000"
   ]
  },
  {
   "cell_type": "code",
   "execution_count": 110,
   "metadata": {
    "collapsed": false
   },
   "outputs": [
    {
     "data": {
      "text/html": [
       "<div>\n",
       "<style scoped>\n",
       "    .dataframe tbody tr th:only-of-type {\n",
       "        vertical-align: middle;\n",
       "    }\n",
       "\n",
       "    .dataframe tbody tr th {\n",
       "        vertical-align: top;\n",
       "    }\n",
       "\n",
       "    .dataframe thead th {\n",
       "        text-align: right;\n",
       "    }\n",
       "</style>\n",
       "<table border=\"1\" class=\"dataframe\">\n",
       "  <thead>\n",
       "    <tr style=\"text-align: right;\">\n",
       "      <th></th>\n",
       "      <th>Money Spent Per Month</th>\n",
       "    </tr>\n",
       "    <tr>\n",
       "      <th>CountryLive</th>\n",
       "      <th></th>\n",
       "    </tr>\n",
       "  </thead>\n",
       "  <tbody>\n",
       "    <tr>\n",
       "      <th>Canada</th>\n",
       "      <td>113.510961</td>\n",
       "    </tr>\n",
       "    <tr>\n",
       "      <th>India</th>\n",
       "      <td>135.100982</td>\n",
       "    </tr>\n",
       "    <tr>\n",
       "      <th>United Kingdom</th>\n",
       "      <td>45.534443</td>\n",
       "    </tr>\n",
       "    <tr>\n",
       "      <th>United States of America</th>\n",
       "      <td>183.800110</td>\n",
       "    </tr>\n",
       "  </tbody>\n",
       "</table>\n",
       "</div>"
      ],
      "text/plain": [
       "                          Money Spent Per Month\n",
       "CountryLive                                    \n",
       "Canada                               113.510961\n",
       "India                                135.100982\n",
       "United Kingdom                        45.534443\n",
       "United States of America             183.800110"
      ]
     },
     "execution_count": 110,
     "metadata": {},
     "output_type": "execute_result"
    }
   ],
   "source": [
    "clean_survey[top_four & no_outliers][['CountryLive','Money Spent Per Month']].groupby('CountryLive').mean()\n"
   ]
  },
  {
   "cell_type": "code",
   "execution_count": 111,
   "metadata": {
    "collapsed": false
   },
   "outputs": [
    {
     "name": "stderr",
     "output_type": "stream",
     "text": [
      "/dataquest/system/env/python3/lib/python3.4/site-packages/seaborn/categorical.py:454: FutureWarning: remove_na is deprecated and is a private function. Do not use.\n",
      "  box_data = remove_na(group_data)\n"
     ]
    },
    {
     "data": {
      "text/plain": [
       "<matplotlib.axes._subplots.AxesSubplot at 0x7f83d73f1320>"
      ]
     },
     "execution_count": 111,
     "metadata": {},
     "output_type": "execute_result"
    },
    {
     "data": {
      "image/png": "[encoded data removed]",
      "text/plain": [
       "<matplotlib.figure.Figure at 0x7f83ec7a1630>"
      ]
     },
     "metadata": {},
     "output_type": "display_data"
    }
   ],
   "source": [
    "sns.boxplot(y = 'Money Spent Per Month', x = 'CountryLive', data=clean_survey[top_four & no_outliers])"
   ]
  },
  {
   "cell_type": "markdown",
   "metadata": {
    "collapsed": true
   },
   "source": [
    "It looks like we're still seeing some outliers. It's possible these folks attended bootcamps, which occur over a short time but can sensibly cost up to $6-15k per month. Let's see how much money boot campers spent on average per month."
   ]
  },
  {
   "cell_type": "code",
   "execution_count": 129,
   "metadata": {
    "collapsed": false
   },
   "outputs": [
    {
     "data": {
      "text/html": [
       "<div>\n",
       "<style scoped>\n",
       "    .dataframe tbody tr th:only-of-type {\n",
       "        vertical-align: middle;\n",
       "    }\n",
       "\n",
       "    .dataframe tbody tr th {\n",
       "        vertical-align: top;\n",
       "    }\n",
       "\n",
       "    .dataframe thead th {\n",
       "        text-align: right;\n",
       "    }\n",
       "</style>\n",
       "<table border=\"1\" class=\"dataframe\">\n",
       "  <thead>\n",
       "    <tr style=\"text-align: right;\">\n",
       "      <th></th>\n",
       "      <th>Money Spent Per Month</th>\n",
       "    </tr>\n",
       "    <tr>\n",
       "      <th>AttendedBootcamp</th>\n",
       "      <th></th>\n",
       "    </tr>\n",
       "  </thead>\n",
       "  <tbody>\n",
       "    <tr>\n",
       "      <th>0.0</th>\n",
       "      <td>118.350615</td>\n",
       "    </tr>\n",
       "    <tr>\n",
       "      <th>1.0</th>\n",
       "      <td>1202.462427</td>\n",
       "    </tr>\n",
       "  </tbody>\n",
       "</table>\n",
       "</div>"
      ],
      "text/plain": [
       "                  Money Spent Per Month\n",
       "AttendedBootcamp                       \n",
       "0.0                          118.350615\n",
       "1.0                         1202.462427"
      ]
     },
     "execution_count": 129,
     "metadata": {},
     "output_type": "execute_result"
    }
   ],
   "source": [
    "clean_survey[['AttendedBootcamp','Money Spent Per Month']].groupby('AttendedBootcamp').mean()"
   ]
  },
  {
   "cell_type": "markdown",
   "metadata": {},
   "source": [
    "A lot more than average - let's filter out the folks who attended boot camps. "
   ]
  },
  {
   "cell_type": "code",
   "execution_count": 130,
   "metadata": {
    "collapsed": false
   },
   "outputs": [
    {
     "name": "stderr",
     "output_type": "stream",
     "text": [
      "/dataquest/system/env/python3/lib/python3.4/site-packages/seaborn/categorical.py:454: FutureWarning: remove_na is deprecated and is a private function. Do not use.\n",
      "  box_data = remove_na(group_data)\n"
     ]
    },
    {
     "data": {
      "text/plain": [
       "<matplotlib.axes._subplots.AxesSubplot at 0x7f83d732a4e0>"
      ]
     },
     "execution_count": 130,
     "metadata": {},
     "output_type": "execute_result"
    },
    {
     "data": {
      "image/png": "[encoded data removed]",
      "text/plain": [
       "<matplotlib.figure.Figure at 0x7f83eb6ff400>"
      ]
     },
     "metadata": {},
     "output_type": "display_data"
    }
   ],
   "source": [
    "no_boot = clean_survey['AttendedBootcamp']==0\n",
    "sns.boxplot(y = 'Money Spent Per Month', x = 'CountryLive', data=clean_survey[top_four & no_outliers & no_boot])"
   ]
  },
  {
   "cell_type": "markdown",
   "metadata": {},
   "source": [
    "Again we're seeing some extreme outliers. Let's dive into what these folks look like."
   ]
  },
  {
   "cell_type": "code",
   "execution_count": 144,
   "metadata": {
    "collapsed": false
   },
   "outputs": [
    {
     "data": {
      "text/html": [
       "<div>\n",
       "<style scoped>\n",
       "    .dataframe tbody tr th:only-of-type {\n",
       "        vertical-align: middle;\n",
       "    }\n",
       "\n",
       "    .dataframe tbody tr th {\n",
       "        vertical-align: top;\n",
       "    }\n",
       "\n",
       "    .dataframe thead th {\n",
       "        text-align: right;\n",
       "    }\n",
       "</style>\n",
       "<table border=\"1\" class=\"dataframe\">\n",
       "  <thead>\n",
       "    <tr style=\"text-align: right;\">\n",
       "      <th></th>\n",
       "      <th>Age</th>\n",
       "      <th>AttendedBootcamp</th>\n",
       "      <th>BootcampFinish</th>\n",
       "      <th>BootcampLoanYesNo</th>\n",
       "      <th>BootcampName</th>\n",
       "      <th>BootcampRecommend</th>\n",
       "      <th>ChildrenNumber</th>\n",
       "      <th>CityPopulation</th>\n",
       "      <th>CodeEventConferences</th>\n",
       "      <th>CodeEventDjangoGirls</th>\n",
       "      <th>...</th>\n",
       "      <th>YouTubeFunFunFunction</th>\n",
       "      <th>YouTubeGoogleDev</th>\n",
       "      <th>YouTubeLearnCode</th>\n",
       "      <th>YouTubeLevelUpTuts</th>\n",
       "      <th>YouTubeMIT</th>\n",
       "      <th>YouTubeMozillaHacks</th>\n",
       "      <th>YouTubeOther</th>\n",
       "      <th>YouTubeSimplilearn</th>\n",
       "      <th>YouTubeTheNewBoston</th>\n",
       "      <th>Money Spent Per Month</th>\n",
       "    </tr>\n",
       "  </thead>\n",
       "  <tbody>\n",
       "    <tr>\n",
       "      <th>3930</th>\n",
       "      <td>31.0</td>\n",
       "      <td>0.0</td>\n",
       "      <td>NaN</td>\n",
       "      <td>NaN</td>\n",
       "      <td>NaN</td>\n",
       "      <td>NaN</td>\n",
       "      <td>NaN</td>\n",
       "      <td>between 100,000 and 1 million</td>\n",
       "      <td>NaN</td>\n",
       "      <td>NaN</td>\n",
       "      <td>...</td>\n",
       "      <td>1.0</td>\n",
       "      <td>1.0</td>\n",
       "      <td>1.0</td>\n",
       "      <td>1.0</td>\n",
       "      <td>1.0</td>\n",
       "      <td>NaN</td>\n",
       "      <td>various conf presentations</td>\n",
       "      <td>NaN</td>\n",
       "      <td>NaN</td>\n",
       "      <td>10833.333333</td>\n",
       "    </tr>\n",
       "    <tr>\n",
       "      <th>7198</th>\n",
       "      <td>32.0</td>\n",
       "      <td>0.0</td>\n",
       "      <td>NaN</td>\n",
       "      <td>NaN</td>\n",
       "      <td>NaN</td>\n",
       "      <td>NaN</td>\n",
       "      <td>NaN</td>\n",
       "      <td>more than 1 million</td>\n",
       "      <td>1.0</td>\n",
       "      <td>NaN</td>\n",
       "      <td>...</td>\n",
       "      <td>NaN</td>\n",
       "      <td>1.0</td>\n",
       "      <td>1.0</td>\n",
       "      <td>1.0</td>\n",
       "      <td>NaN</td>\n",
       "      <td>NaN</td>\n",
       "      <td>NaN</td>\n",
       "      <td>NaN</td>\n",
       "      <td>NaN</td>\n",
       "      <td>14000.000000</td>\n",
       "    </tr>\n",
       "    <tr>\n",
       "      <th>13398</th>\n",
       "      <td>19.0</td>\n",
       "      <td>0.0</td>\n",
       "      <td>NaN</td>\n",
       "      <td>NaN</td>\n",
       "      <td>NaN</td>\n",
       "      <td>NaN</td>\n",
       "      <td>NaN</td>\n",
       "      <td>more than 1 million</td>\n",
       "      <td>NaN</td>\n",
       "      <td>NaN</td>\n",
       "      <td>...</td>\n",
       "      <td>NaN</td>\n",
       "      <td>NaN</td>\n",
       "      <td>NaN</td>\n",
       "      <td>NaN</td>\n",
       "      <td>NaN</td>\n",
       "      <td>NaN</td>\n",
       "      <td>NaN</td>\n",
       "      <td>NaN</td>\n",
       "      <td>NaN</td>\n",
       "      <td>10000.000000</td>\n",
       "    </tr>\n",
       "    <tr>\n",
       "      <th>16650</th>\n",
       "      <td>29.0</td>\n",
       "      <td>0.0</td>\n",
       "      <td>NaN</td>\n",
       "      <td>NaN</td>\n",
       "      <td>NaN</td>\n",
       "      <td>NaN</td>\n",
       "      <td>2.0</td>\n",
       "      <td>more than 1 million</td>\n",
       "      <td>NaN</td>\n",
       "      <td>NaN</td>\n",
       "      <td>...</td>\n",
       "      <td>NaN</td>\n",
       "      <td>NaN</td>\n",
       "      <td>NaN</td>\n",
       "      <td>NaN</td>\n",
       "      <td>NaN</td>\n",
       "      <td>NaN</td>\n",
       "      <td>NaN</td>\n",
       "      <td>NaN</td>\n",
       "      <td>1.0</td>\n",
       "      <td>16666.666667</td>\n",
       "    </tr>\n",
       "    <tr>\n",
       "      <th>16997</th>\n",
       "      <td>27.0</td>\n",
       "      <td>0.0</td>\n",
       "      <td>NaN</td>\n",
       "      <td>NaN</td>\n",
       "      <td>NaN</td>\n",
       "      <td>NaN</td>\n",
       "      <td>1.0</td>\n",
       "      <td>more than 1 million</td>\n",
       "      <td>NaN</td>\n",
       "      <td>NaN</td>\n",
       "      <td>...</td>\n",
       "      <td>NaN</td>\n",
       "      <td>NaN</td>\n",
       "      <td>NaN</td>\n",
       "      <td>NaN</td>\n",
       "      <td>NaN</td>\n",
       "      <td>NaN</td>\n",
       "      <td>NaN</td>\n",
       "      <td>NaN</td>\n",
       "      <td>NaN</td>\n",
       "      <td>12500.000000</td>\n",
       "    </tr>\n",
       "    <tr>\n",
       "      <th>17231</th>\n",
       "      <td>50.0</td>\n",
       "      <td>0.0</td>\n",
       "      <td>NaN</td>\n",
       "      <td>NaN</td>\n",
       "      <td>NaN</td>\n",
       "      <td>NaN</td>\n",
       "      <td>2.0</td>\n",
       "      <td>less than 100,000</td>\n",
       "      <td>NaN</td>\n",
       "      <td>NaN</td>\n",
       "      <td>...</td>\n",
       "      <td>NaN</td>\n",
       "      <td>NaN</td>\n",
       "      <td>NaN</td>\n",
       "      <td>NaN</td>\n",
       "      <td>NaN</td>\n",
       "      <td>NaN</td>\n",
       "      <td>NaN</td>\n",
       "      <td>NaN</td>\n",
       "      <td>NaN</td>\n",
       "      <td>15000.000000</td>\n",
       "    </tr>\n",
       "  </tbody>\n",
       "</table>\n",
       "<p>6 rows × 137 columns</p>\n",
       "</div>"
      ],
      "text/plain": [
       "        Age  AttendedBootcamp  BootcampFinish  BootcampLoanYesNo BootcampName  \\\n",
       "3930   31.0               0.0             NaN                NaN          NaN   \n",
       "7198   32.0               0.0             NaN                NaN          NaN   \n",
       "13398  19.0               0.0             NaN                NaN          NaN   \n",
       "16650  29.0               0.0             NaN                NaN          NaN   \n",
       "16997  27.0               0.0             NaN                NaN          NaN   \n",
       "17231  50.0               0.0             NaN                NaN          NaN   \n",
       "\n",
       "       BootcampRecommend  ChildrenNumber                 CityPopulation  \\\n",
       "3930                 NaN             NaN  between 100,000 and 1 million   \n",
       "7198                 NaN             NaN            more than 1 million   \n",
       "13398                NaN             NaN            more than 1 million   \n",
       "16650                NaN             2.0            more than 1 million   \n",
       "16997                NaN             1.0            more than 1 million   \n",
       "17231                NaN             2.0              less than 100,000   \n",
       "\n",
       "       CodeEventConferences  CodeEventDjangoGirls          ...            \\\n",
       "3930                    NaN                   NaN          ...             \n",
       "7198                    1.0                   NaN          ...             \n",
       "13398                   NaN                   NaN          ...             \n",
       "16650                   NaN                   NaN          ...             \n",
       "16997                   NaN                   NaN          ...             \n",
       "17231                   NaN                   NaN          ...             \n",
       "\n",
       "       YouTubeFunFunFunction  YouTubeGoogleDev  YouTubeLearnCode  \\\n",
       "3930                     1.0               1.0               1.0   \n",
       "7198                     NaN               1.0               1.0   \n",
       "13398                    NaN               NaN               NaN   \n",
       "16650                    NaN               NaN               NaN   \n",
       "16997                    NaN               NaN               NaN   \n",
       "17231                    NaN               NaN               NaN   \n",
       "\n",
       "       YouTubeLevelUpTuts  YouTubeMIT  YouTubeMozillaHacks  \\\n",
       "3930                  1.0         1.0                  NaN   \n",
       "7198                  1.0         NaN                  NaN   \n",
       "13398                 NaN         NaN                  NaN   \n",
       "16650                 NaN         NaN                  NaN   \n",
       "16997                 NaN         NaN                  NaN   \n",
       "17231                 NaN         NaN                  NaN   \n",
       "\n",
       "                     YouTubeOther YouTubeSimplilearn  YouTubeTheNewBoston  \\\n",
       "3930   various conf presentations                NaN                  NaN   \n",
       "7198                          NaN                NaN                  NaN   \n",
       "13398                         NaN                NaN                  NaN   \n",
       "16650                         NaN                NaN                  1.0   \n",
       "16997                         NaN                NaN                  NaN   \n",
       "17231                         NaN                NaN                  NaN   \n",
       "\n",
       "       Money Spent Per Month  \n",
       "3930            10833.333333  \n",
       "7198            14000.000000  \n",
       "13398           10000.000000  \n",
       "16650           16666.666667  \n",
       "16997           12500.000000  \n",
       "17231           15000.000000  \n",
       "\n",
       "[6 rows x 137 columns]"
      ]
     },
     "execution_count": 144,
     "metadata": {},
     "output_type": "execute_result"
    }
   ],
   "source": [
    "outlier_filter = clean_survey['Money Spent Per Month'] > 6000\n",
    "clean_survey[top_four & no_outliers & no_boot & outlier_filter]"
   ]
  },
  {
   "cell_type": "markdown",
   "metadata": {},
   "source": [
    "Since there's nothing particularly eye-opening about these people, and because there are only 6 of them, we can assume they are aberrations and filter them out of our data set"
   ]
  },
  {
   "cell_type": "code",
   "execution_count": 146,
   "metadata": {
    "collapsed": false
   },
   "outputs": [
    {
     "name": "stderr",
     "output_type": "stream",
     "text": [
      "/dataquest/system/env/python3/lib/python3.4/site-packages/seaborn/categorical.py:454: FutureWarning: remove_na is deprecated and is a private function. Do not use.\n",
      "  box_data = remove_na(group_data)\n"
     ]
    },
    {
     "data": {
      "text/plain": [
       "<matplotlib.axes._subplots.AxesSubplot at 0x7f83d722a048>"
      ]
     },
     "execution_count": 146,
     "metadata": {},
     "output_type": "execute_result"
    },
    {
     "data": {
      "image/png": "[encoded data removed]",
      "text/plain": [
       "<matplotlib.figure.Figure at 0x7f83d61a5e10>"
      ]
     },
     "metadata": {},
     "output_type": "display_data"
    }
   ],
   "source": [
    "new_filter = clean_survey['Money Spent Per Month'] < 6000\n",
    "sns.boxplot(y = 'Money Spent Per Month', x = 'CountryLive', data=clean_survey[top_four & new_filter & no_boot])"
   ]
  },
  {
   "cell_type": "code",
   "execution_count": 147,
   "metadata": {
    "collapsed": false
   },
   "outputs": [
    {
     "data": {
      "text/html": [
       "<div>\n",
       "<style scoped>\n",
       "    .dataframe tbody tr th:only-of-type {\n",
       "        vertical-align: middle;\n",
       "    }\n",
       "\n",
       "    .dataframe tbody tr th {\n",
       "        vertical-align: top;\n",
       "    }\n",
       "\n",
       "    .dataframe thead th {\n",
       "        text-align: right;\n",
       "    }\n",
       "</style>\n",
       "<table border=\"1\" class=\"dataframe\">\n",
       "  <thead>\n",
       "    <tr style=\"text-align: right;\">\n",
       "      <th></th>\n",
       "      <th>Money Spent Per Month</th>\n",
       "    </tr>\n",
       "    <tr>\n",
       "      <th>CountryLive</th>\n",
       "      <th></th>\n",
       "    </tr>\n",
       "  </thead>\n",
       "  <tbody>\n",
       "    <tr>\n",
       "      <th>Canada</th>\n",
       "      <td>64.127841</td>\n",
       "    </tr>\n",
       "    <tr>\n",
       "      <th>India</th>\n",
       "      <td>111.589169</td>\n",
       "    </tr>\n",
       "    <tr>\n",
       "      <th>United Kingdom</th>\n",
       "      <td>34.468329</td>\n",
       "    </tr>\n",
       "    <tr>\n",
       "      <th>United States of America</th>\n",
       "      <td>76.350634</td>\n",
       "    </tr>\n",
       "  </tbody>\n",
       "</table>\n",
       "</div>"
      ],
      "text/plain": [
       "                          Money Spent Per Month\n",
       "CountryLive                                    \n",
       "Canada                                64.127841\n",
       "India                                111.589169\n",
       "United Kingdom                        34.468329\n",
       "United States of America              76.350634"
      ]
     },
     "execution_count": 147,
     "metadata": {},
     "output_type": "execute_result"
    }
   ],
   "source": [
    "clean_survey[top_four & new_filter & no_boot][['CountryLive','Money Spent Per Month']].groupby('CountryLive').mean()"
   ]
  },
  {
   "cell_type": "code",
   "execution_count": 150,
   "metadata": {
    "collapsed": false
   },
   "outputs": [
    {
     "data": {
      "text/plain": [
       "United States of America    2674\n",
       "India                        453\n",
       "United Kingdom               272\n",
       "Canada                       230\n",
       "Name: CountryLive, dtype: int64"
      ]
     },
     "execution_count": 150,
     "metadata": {},
     "output_type": "execute_result"
    }
   ],
   "source": [
    "clean_survey[top_four & new_filter & no_boot]['CountryLive'].value_counts()"
   ]
  },
  {
   "cell_type": "markdown",
   "metadata": {},
   "source": [
    "Our final results show that Americans and Indians are willing to spend the most per month on average, and since these countries comprise a majority of respondents, we can safely pick them as our marketing domains. However, we will need to choose carefully how much money we want to spend in each country, as there is a clear disparity between potential customers (85% vs 15%). We may want to allocate more funds to our US market, or possibly launch an analysis on likelihood of responses in each country. This could entail diving deeper into our survey data, or gathering data from a separate source. "
   ]
  },
  {
   "cell_type": "code",
   "execution_count": null,
   "metadata": {
    "collapsed": true
   },
   "outputs": [],
   "source": []
  }
 ],
 "metadata": {
  "kernelspec": {
   "display_name": "Python 3",
   "language": "python",
   "name": "python3"
  },
  "language_info": {
   "codemirror_mode": {
    "name": "ipython",
    "version": 3
   },
   "file_extension": ".py",
   "mimetype": "text/x-python",
   "name": "python",
   "nbconvert_exporter": "python",
   "pygments_lexer": "ipython3",
   "version": "3.4.3"
  }
 },
 "nbformat": 4,
 "nbformat_minor": 2
}
